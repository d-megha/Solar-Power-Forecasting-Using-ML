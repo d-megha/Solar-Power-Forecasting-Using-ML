{
 "cells": [
  {
   "cell_type": "code",
   "execution_count": 1,
   "metadata": {},
   "outputs": [],
   "source": [
    "import pandas as pd\n",
    "import numpy as np\n",
    "from scipy.interpolate import interp1d\n",
    "\n",
    "df=pd.read_csv(\"Solar PV HIT-data.csv\")"
   ]
  },
  {
   "cell_type": "code",
   "execution_count": 5,
   "metadata": {},
   "outputs": [
    {
     "name": "stdout",
     "output_type": "stream",
     "text": [
      "<class 'pandas.core.frame.DataFrame'>\n",
      "RangeIndex: 18581 entries, 0 to 18580\n",
      "Data columns (total 13 columns):\n",
      " #   Column        Non-Null Count  Dtype  \n",
      "---  ------        --------------  -----  \n",
      " 0   time          18581 non-null  object \n",
      " 1   ModuleYear    18581 non-null  int64  \n",
      " 2   ModuleMonth   18581 non-null  int64  \n",
      " 3   module        18581 non-null  object \n",
      " 4   Isc           18410 non-null  float64\n",
      " 5   Voc           18410 non-null  float64\n",
      " 6   Ipmax         18410 non-null  float64\n",
      " 7   Vpmax         18410 non-null  float64\n",
      " 8   Pmax          18410 non-null  float64\n",
      " 9   Temp_Mid_avg  18581 non-null  float64\n",
      " 10  Gt            18581 non-null  float64\n",
      " 11  WS            18581 non-null  float64\n",
      " 12  Tamb          18581 non-null  float64\n",
      "dtypes: float64(9), int64(2), object(2)\n",
      "memory usage: 1.8+ MB\n"
     ]
    }
   ],
   "source": [
    "df.info()"
   ]
  },
  {
   "cell_type": "code",
   "execution_count": 6,
   "metadata": {},
   "outputs": [
    {
     "data": {
      "text/html": [
       "<div>\n",
       "<style scoped>\n",
       "    .dataframe tbody tr th:only-of-type {\n",
       "        vertical-align: middle;\n",
       "    }\n",
       "\n",
       "    .dataframe tbody tr th {\n",
       "        vertical-align: top;\n",
       "    }\n",
       "\n",
       "    .dataframe thead th {\n",
       "        text-align: right;\n",
       "    }\n",
       "</style>\n",
       "<table border=\"1\" class=\"dataframe\">\n",
       "  <thead>\n",
       "    <tr style=\"text-align: right;\">\n",
       "      <th></th>\n",
       "      <th>time</th>\n",
       "      <th>ModuleYear</th>\n",
       "      <th>ModuleMonth</th>\n",
       "      <th>module</th>\n",
       "      <th>Isc</th>\n",
       "      <th>Voc</th>\n",
       "      <th>Ipmax</th>\n",
       "      <th>Vpmax</th>\n",
       "      <th>Pmax</th>\n",
       "      <th>Temp_Mid_avg</th>\n",
       "      <th>Gt</th>\n",
       "      <th>WS</th>\n",
       "      <th>Tamb</th>\n",
       "    </tr>\n",
       "  </thead>\n",
       "  <tbody>\n",
       "    <tr>\n",
       "      <th>0</th>\n",
       "      <td>1/1/10 8:10</td>\n",
       "      <td>2010</td>\n",
       "      <td>1</td>\n",
       "      <td>S20_REV205</td>\n",
       "      <td>0.500</td>\n",
       "      <td>74.75</td>\n",
       "      <td>0.490</td>\n",
       "      <td>62.35</td>\n",
       "      <td>31.0</td>\n",
       "      <td>6.533</td>\n",
       "      <td>135.4240</td>\n",
       "      <td>0.684</td>\n",
       "      <td>8.26</td>\n",
       "    </tr>\n",
       "    <tr>\n",
       "      <th>1</th>\n",
       "      <td>1/1/10 8:20</td>\n",
       "      <td>2010</td>\n",
       "      <td>1</td>\n",
       "      <td>S20_REV205</td>\n",
       "      <td>0.658</td>\n",
       "      <td>73.22</td>\n",
       "      <td>0.628</td>\n",
       "      <td>62.75</td>\n",
       "      <td>39.0</td>\n",
       "      <td>9.270</td>\n",
       "      <td>174.8295</td>\n",
       "      <td>0.493</td>\n",
       "      <td>8.75</td>\n",
       "    </tr>\n",
       "    <tr>\n",
       "      <th>2</th>\n",
       "      <td>1/1/10 8:30</td>\n",
       "      <td>2010</td>\n",
       "      <td>1</td>\n",
       "      <td>S20_REV205</td>\n",
       "      <td>0.795</td>\n",
       "      <td>72.98</td>\n",
       "      <td>0.751</td>\n",
       "      <td>63.38</td>\n",
       "      <td>48.0</td>\n",
       "      <td>11.480</td>\n",
       "      <td>208.2349</td>\n",
       "      <td>0.694</td>\n",
       "      <td>9.29</td>\n",
       "    </tr>\n",
       "    <tr>\n",
       "      <th>3</th>\n",
       "      <td>1/1/10 8:40</td>\n",
       "      <td>2010</td>\n",
       "      <td>1</td>\n",
       "      <td>S20_REV205</td>\n",
       "      <td>0.926</td>\n",
       "      <td>75.29</td>\n",
       "      <td>0.860</td>\n",
       "      <td>64.14</td>\n",
       "      <td>55.0</td>\n",
       "      <td>13.010</td>\n",
       "      <td>244.6055</td>\n",
       "      <td>0.864</td>\n",
       "      <td>9.76</td>\n",
       "    </tr>\n",
       "    <tr>\n",
       "      <th>4</th>\n",
       "      <td>1/1/10 8:50</td>\n",
       "      <td>2010</td>\n",
       "      <td>1</td>\n",
       "      <td>S20_REV205</td>\n",
       "      <td>1.056</td>\n",
       "      <td>74.98</td>\n",
       "      <td>1.009</td>\n",
       "      <td>63.42</td>\n",
       "      <td>64.0</td>\n",
       "      <td>15.240</td>\n",
       "      <td>275.6980</td>\n",
       "      <td>0.611</td>\n",
       "      <td>10.22</td>\n",
       "    </tr>\n",
       "  </tbody>\n",
       "</table>\n",
       "</div>"
      ],
      "text/plain": [
       "          time  ModuleYear  ModuleMonth      module    Isc    Voc  Ipmax  \\\n",
       "0  1/1/10 8:10        2010            1  S20_REV205  0.500  74.75  0.490   \n",
       "1  1/1/10 8:20        2010            1  S20_REV205  0.658  73.22  0.628   \n",
       "2  1/1/10 8:30        2010            1  S20_REV205  0.795  72.98  0.751   \n",
       "3  1/1/10 8:40        2010            1  S20_REV205  0.926  75.29  0.860   \n",
       "4  1/1/10 8:50        2010            1  S20_REV205  1.056  74.98  1.009   \n",
       "\n",
       "   Vpmax  Pmax  Temp_Mid_avg        Gt     WS   Tamb  \n",
       "0  62.35  31.0         6.533  135.4240  0.684   8.26  \n",
       "1  62.75  39.0         9.270  174.8295  0.493   8.75  \n",
       "2  63.38  48.0        11.480  208.2349  0.694   9.29  \n",
       "3  64.14  55.0        13.010  244.6055  0.864   9.76  \n",
       "4  63.42  64.0        15.240  275.6980  0.611  10.22  "
      ]
     },
     "execution_count": 6,
     "metadata": {},
     "output_type": "execute_result"
    }
   ],
   "source": [
    "df.head()"
   ]
  },
  {
   "cell_type": "code",
   "execution_count": 7,
   "metadata": {},
   "outputs": [
    {
     "data": {
      "text/html": [
       "<div>\n",
       "<style scoped>\n",
       "    .dataframe tbody tr th:only-of-type {\n",
       "        vertical-align: middle;\n",
       "    }\n",
       "\n",
       "    .dataframe tbody tr th {\n",
       "        vertical-align: top;\n",
       "    }\n",
       "\n",
       "    .dataframe thead th {\n",
       "        text-align: right;\n",
       "    }\n",
       "</style>\n",
       "<table border=\"1\" class=\"dataframe\">\n",
       "  <thead>\n",
       "    <tr style=\"text-align: right;\">\n",
       "      <th></th>\n",
       "      <th>time</th>\n",
       "      <th>ModuleYear</th>\n",
       "      <th>ModuleMonth</th>\n",
       "      <th>module</th>\n",
       "      <th>Isc</th>\n",
       "      <th>Voc</th>\n",
       "      <th>Ipmax</th>\n",
       "      <th>Vpmax</th>\n",
       "      <th>Pmax</th>\n",
       "      <th>Temp_Mid_avg</th>\n",
       "      <th>Gt</th>\n",
       "      <th>WS</th>\n",
       "      <th>Tamb</th>\n",
       "    </tr>\n",
       "  </thead>\n",
       "  <tbody>\n",
       "    <tr>\n",
       "      <th>18576</th>\n",
       "      <td>12/31/10 16:00</td>\n",
       "      <td>2010</td>\n",
       "      <td>12</td>\n",
       "      <td>S20_REV205</td>\n",
       "      <td>0.932</td>\n",
       "      <td>73.75</td>\n",
       "      <td>0.832</td>\n",
       "      <td>64.70</td>\n",
       "      <td>54.0</td>\n",
       "      <td>21.06</td>\n",
       "      <td>281.0977</td>\n",
       "      <td>1.958</td>\n",
       "      <td>15.62</td>\n",
       "    </tr>\n",
       "    <tr>\n",
       "      <th>18577</th>\n",
       "      <td>12/31/10 16:10</td>\n",
       "      <td>2010</td>\n",
       "      <td>12</td>\n",
       "      <td>S20_REV205</td>\n",
       "      <td>0.687</td>\n",
       "      <td>71.45</td>\n",
       "      <td>0.621</td>\n",
       "      <td>63.52</td>\n",
       "      <td>39.0</td>\n",
       "      <td>20.56</td>\n",
       "      <td>229.2695</td>\n",
       "      <td>2.020</td>\n",
       "      <td>15.29</td>\n",
       "    </tr>\n",
       "    <tr>\n",
       "      <th>18578</th>\n",
       "      <td>12/31/10 16:20</td>\n",
       "      <td>2010</td>\n",
       "      <td>12</td>\n",
       "      <td>S20_REV205</td>\n",
       "      <td>0.677</td>\n",
       "      <td>71.52</td>\n",
       "      <td>0.623</td>\n",
       "      <td>63.20</td>\n",
       "      <td>39.0</td>\n",
       "      <td>18.30</td>\n",
       "      <td>214.2968</td>\n",
       "      <td>2.555</td>\n",
       "      <td>15.05</td>\n",
       "    </tr>\n",
       "    <tr>\n",
       "      <th>18579</th>\n",
       "      <td>12/31/10 16:30</td>\n",
       "      <td>2010</td>\n",
       "      <td>12</td>\n",
       "      <td>S20_REV205</td>\n",
       "      <td>0.677</td>\n",
       "      <td>73.52</td>\n",
       "      <td>0.617</td>\n",
       "      <td>63.17</td>\n",
       "      <td>39.0</td>\n",
       "      <td>19.55</td>\n",
       "      <td>190.5222</td>\n",
       "      <td>1.437</td>\n",
       "      <td>15.24</td>\n",
       "    </tr>\n",
       "    <tr>\n",
       "      <th>18580</th>\n",
       "      <td>12/31/10 16:40</td>\n",
       "      <td>2010</td>\n",
       "      <td>12</td>\n",
       "      <td>S20_REV205</td>\n",
       "      <td>0.380</td>\n",
       "      <td>70.14</td>\n",
       "      <td>0.345</td>\n",
       "      <td>62.59</td>\n",
       "      <td>22.0</td>\n",
       "      <td>17.13</td>\n",
       "      <td>121.3394</td>\n",
       "      <td>1.924</td>\n",
       "      <td>14.81</td>\n",
       "    </tr>\n",
       "  </tbody>\n",
       "</table>\n",
       "</div>"
      ],
      "text/plain": [
       "                 time  ModuleYear  ModuleMonth      module    Isc    Voc  \\\n",
       "18576  12/31/10 16:00        2010           12  S20_REV205  0.932  73.75   \n",
       "18577  12/31/10 16:10        2010           12  S20_REV205  0.687  71.45   \n",
       "18578  12/31/10 16:20        2010           12  S20_REV205  0.677  71.52   \n",
       "18579  12/31/10 16:30        2010           12  S20_REV205  0.677  73.52   \n",
       "18580  12/31/10 16:40        2010           12  S20_REV205  0.380  70.14   \n",
       "\n",
       "       Ipmax  Vpmax  Pmax  Temp_Mid_avg        Gt     WS   Tamb  \n",
       "18576  0.832  64.70  54.0         21.06  281.0977  1.958  15.62  \n",
       "18577  0.621  63.52  39.0         20.56  229.2695  2.020  15.29  \n",
       "18578  0.623  63.20  39.0         18.30  214.2968  2.555  15.05  \n",
       "18579  0.617  63.17  39.0         19.55  190.5222  1.437  15.24  \n",
       "18580  0.345  62.59  22.0         17.13  121.3394  1.924  14.81  "
      ]
     },
     "execution_count": 7,
     "metadata": {},
     "output_type": "execute_result"
    }
   ],
   "source": [
    "df.tail()"
   ]
  },
  {
   "cell_type": "code",
   "execution_count": 8,
   "metadata": {},
   "outputs": [
    {
     "ename": "ModuleNotFoundError",
     "evalue": "No module named 'seaborn'",
     "output_type": "error",
     "traceback": [
      "\u001b[0;31m---------------------------------------------------------------------------\u001b[0m",
      "\u001b[0;31mModuleNotFoundError\u001b[0m                       Traceback (most recent call last)",
      "Input \u001b[0;32mIn [8]\u001b[0m, in \u001b[0;36m<cell line: 1>\u001b[0;34m()\u001b[0m\n\u001b[0;32m----> 1\u001b[0m \u001b[38;5;28;01mimport\u001b[39;00m \u001b[38;5;21;01mseaborn\u001b[39;00m \u001b[38;5;28;01mas\u001b[39;00m \u001b[38;5;21;01msns\u001b[39;00m\n\u001b[1;32m      2\u001b[0m \u001b[38;5;28;01mimport\u001b[39;00m \u001b[38;5;21;01mmatplotlib\u001b[39;00m\n\u001b[1;32m      3\u001b[0m \u001b[38;5;28;01mimport\u001b[39;00m \u001b[38;5;21;01mmatplotlib\u001b[39;00m\u001b[38;5;21;01m.\u001b[39;00m\u001b[38;5;21;01mpyplot\u001b[39;00m \u001b[38;5;28;01mas\u001b[39;00m \u001b[38;5;21;01mplt\u001b[39;00m\n",
      "\u001b[0;31mModuleNotFoundError\u001b[0m: No module named 'seaborn'"
     ]
    }
   ],
   "source": [
    "import seaborn as sns\n",
    "import matplotlib\n",
    "import matplotlib.pyplot as plt\n",
    "%matplotlib inline\n",
    "\n",
    "sns.set_style('darkgrid')\n",
    "matplotlib.rcParams['font.size'] = 14\n",
    "matplotlib.rcParams['figure.figsize'] = (9, 5)\n",
    "matplotlib.rcParams['figure.facecolor'] = '#00000000'"
   ]
  },
  {
   "cell_type": "code",
   "execution_count": 9,
   "metadata": {},
   "outputs": [
    {
     "name": "stdout",
     "output_type": "stream",
     "text": [
      "<class 'pandas.core.frame.DataFrame'>\n",
      "RangeIndex: 18581 entries, 0 to 18580\n",
      "Data columns (total 2 columns):\n",
      " #   Column  Non-Null Count  Dtype  \n",
      "---  ------  --------------  -----  \n",
      " 0   Isc     18410 non-null  float64\n",
      " 1   Voc     18410 non-null  float64\n",
      "dtypes: float64(2)\n",
      "memory usage: 290.5 KB\n",
      "         Isc    Voc    result\n",
      "0      0.500  74.75  37.37500\n",
      "1      0.658  73.22  48.17876\n",
      "2      0.795  72.98  58.01910\n",
      "3      0.926  75.29  69.71854\n",
      "4      1.056  74.98  79.17888\n",
      "...      ...    ...       ...\n",
      "18576  0.932  73.75  68.73500\n",
      "18577  0.687  71.45  49.08615\n",
      "18578  0.677  71.52  48.41904\n",
      "18579  0.677  73.52  49.77304\n",
      "18580  0.380  70.14  26.65320\n",
      "\n",
      "[18581 rows x 3 columns]\n",
      "         Isc    Voc    result           FF\n",
      "0      0.500  74.75  37.37500  4634.500000\n",
      "1      0.658  73.22  48.17876  4339.787234\n",
      "2      0.795  72.98  58.01910  4406.339623\n",
      "3      0.926  75.29  69.71854  4471.868251\n",
      "4      1.056  74.98  79.17888  4544.242424\n",
      "...      ...    ...       ...          ...\n",
      "18576  0.932  73.75  68.73500  4273.068670\n",
      "18577  0.687  71.45  49.08615  4056.113537\n",
      "18578  0.677  71.52  48.41904  4120.059084\n",
      "18579  0.677  73.52  49.77304  4235.273264\n",
      "18580  0.380  70.14  26.65320  4060.736842\n",
      "\n",
      "[18581 rows x 4 columns]\n"
     ]
    }
   ],
   "source": [
    "dataset=pd.DataFrame(df)\n",
    "cols=[4,5]\n",
    "dataset=dataset[dataset.columns[cols]]\n",
    "dataset.info()\n",
    "\n",
    "#Multiplying the values of Isc (Short circuit current) and Voc(Open circuit voltage)\n",
    "df1=dataset.assign(result=dataset.Isc*dataset.Voc)\n",
    "print (df1)\n",
    "\n",
    "\n",
    "#Finding the value of FF(Fill factor) by dividing the Isc and Voc by Pmax(Maxiumum power point)\n",
    "\n",
    "df2=df1.assign(FF=df.Pmax/dataset.Isc*dataset.Voc)\n",
    "print(df2)\n"
   ]
  },
  {
   "cell_type": "code",
   "execution_count": 10,
   "metadata": {},
   "outputs": [],
   "source": [
    "df.insert(13, 'FF',df2['FF'])"
   ]
  },
  {
   "cell_type": "code",
   "execution_count": 11,
   "metadata": {},
   "outputs": [
    {
     "data": {
      "text/html": [
       "<div>\n",
       "<style scoped>\n",
       "    .dataframe tbody tr th:only-of-type {\n",
       "        vertical-align: middle;\n",
       "    }\n",
       "\n",
       "    .dataframe tbody tr th {\n",
       "        vertical-align: top;\n",
       "    }\n",
       "\n",
       "    .dataframe thead th {\n",
       "        text-align: right;\n",
       "    }\n",
       "</style>\n",
       "<table border=\"1\" class=\"dataframe\">\n",
       "  <thead>\n",
       "    <tr style=\"text-align: right;\">\n",
       "      <th></th>\n",
       "      <th>time</th>\n",
       "      <th>ModuleYear</th>\n",
       "      <th>ModuleMonth</th>\n",
       "      <th>module</th>\n",
       "      <th>Isc</th>\n",
       "      <th>Voc</th>\n",
       "      <th>Ipmax</th>\n",
       "      <th>Vpmax</th>\n",
       "      <th>Pmax</th>\n",
       "      <th>Temp_Mid_avg</th>\n",
       "      <th>Gt</th>\n",
       "      <th>WS</th>\n",
       "      <th>Tamb</th>\n",
       "      <th>FF</th>\n",
       "    </tr>\n",
       "  </thead>\n",
       "  <tbody>\n",
       "    <tr>\n",
       "      <th>0</th>\n",
       "      <td>1/1/10 8:10</td>\n",
       "      <td>2010</td>\n",
       "      <td>1</td>\n",
       "      <td>S20_REV205</td>\n",
       "      <td>0.500</td>\n",
       "      <td>74.75</td>\n",
       "      <td>0.490</td>\n",
       "      <td>62.35</td>\n",
       "      <td>31.0</td>\n",
       "      <td>6.533</td>\n",
       "      <td>135.4240</td>\n",
       "      <td>0.684</td>\n",
       "      <td>8.26</td>\n",
       "      <td>4634.500000</td>\n",
       "    </tr>\n",
       "    <tr>\n",
       "      <th>1</th>\n",
       "      <td>1/1/10 8:20</td>\n",
       "      <td>2010</td>\n",
       "      <td>1</td>\n",
       "      <td>S20_REV205</td>\n",
       "      <td>0.658</td>\n",
       "      <td>73.22</td>\n",
       "      <td>0.628</td>\n",
       "      <td>62.75</td>\n",
       "      <td>39.0</td>\n",
       "      <td>9.270</td>\n",
       "      <td>174.8295</td>\n",
       "      <td>0.493</td>\n",
       "      <td>8.75</td>\n",
       "      <td>4339.787234</td>\n",
       "    </tr>\n",
       "    <tr>\n",
       "      <th>2</th>\n",
       "      <td>1/1/10 8:30</td>\n",
       "      <td>2010</td>\n",
       "      <td>1</td>\n",
       "      <td>S20_REV205</td>\n",
       "      <td>0.795</td>\n",
       "      <td>72.98</td>\n",
       "      <td>0.751</td>\n",
       "      <td>63.38</td>\n",
       "      <td>48.0</td>\n",
       "      <td>11.480</td>\n",
       "      <td>208.2349</td>\n",
       "      <td>0.694</td>\n",
       "      <td>9.29</td>\n",
       "      <td>4406.339623</td>\n",
       "    </tr>\n",
       "    <tr>\n",
       "      <th>3</th>\n",
       "      <td>1/1/10 8:40</td>\n",
       "      <td>2010</td>\n",
       "      <td>1</td>\n",
       "      <td>S20_REV205</td>\n",
       "      <td>0.926</td>\n",
       "      <td>75.29</td>\n",
       "      <td>0.860</td>\n",
       "      <td>64.14</td>\n",
       "      <td>55.0</td>\n",
       "      <td>13.010</td>\n",
       "      <td>244.6055</td>\n",
       "      <td>0.864</td>\n",
       "      <td>9.76</td>\n",
       "      <td>4471.868251</td>\n",
       "    </tr>\n",
       "    <tr>\n",
       "      <th>4</th>\n",
       "      <td>1/1/10 8:50</td>\n",
       "      <td>2010</td>\n",
       "      <td>1</td>\n",
       "      <td>S20_REV205</td>\n",
       "      <td>1.056</td>\n",
       "      <td>74.98</td>\n",
       "      <td>1.009</td>\n",
       "      <td>63.42</td>\n",
       "      <td>64.0</td>\n",
       "      <td>15.240</td>\n",
       "      <td>275.6980</td>\n",
       "      <td>0.611</td>\n",
       "      <td>10.22</td>\n",
       "      <td>4544.242424</td>\n",
       "    </tr>\n",
       "  </tbody>\n",
       "</table>\n",
       "</div>"
      ],
      "text/plain": [
       "          time  ModuleYear  ModuleMonth      module    Isc    Voc  Ipmax  \\\n",
       "0  1/1/10 8:10        2010            1  S20_REV205  0.500  74.75  0.490   \n",
       "1  1/1/10 8:20        2010            1  S20_REV205  0.658  73.22  0.628   \n",
       "2  1/1/10 8:30        2010            1  S20_REV205  0.795  72.98  0.751   \n",
       "3  1/1/10 8:40        2010            1  S20_REV205  0.926  75.29  0.860   \n",
       "4  1/1/10 8:50        2010            1  S20_REV205  1.056  74.98  1.009   \n",
       "\n",
       "   Vpmax  Pmax  Temp_Mid_avg        Gt     WS   Tamb           FF  \n",
       "0  62.35  31.0         6.533  135.4240  0.684   8.26  4634.500000  \n",
       "1  62.75  39.0         9.270  174.8295  0.493   8.75  4339.787234  \n",
       "2  63.38  48.0        11.480  208.2349  0.694   9.29  4406.339623  \n",
       "3  64.14  55.0        13.010  244.6055  0.864   9.76  4471.868251  \n",
       "4  63.42  64.0        15.240  275.6980  0.611  10.22  4544.242424  "
      ]
     },
     "execution_count": 11,
     "metadata": {},
     "output_type": "execute_result"
    }
   ],
   "source": [
    "df.head()\n"
   ]
  },
  {
   "cell_type": "markdown",
   "metadata": {},
   "source": [
    "## MODELING Using Random Forest Regressor\n",
    "\n"
   ]
  },
  {
   "cell_type": "code",
   "execution_count": 81,
   "metadata": {},
   "outputs": [],
   "source": [
    "# random regressor doesn't take NaNs so replace them\n",
    "\n",
    "df.isnull().sum()\n",
    "df.fillna(0, inplace=True)"
   ]
  },
  {
   "cell_type": "code",
   "execution_count": 82,
   "metadata": {},
   "outputs": [],
   "source": [
    "#split x and y\n",
    "\n",
    "x = df.drop(['Temp_Mid_avg','Isc','Voc','Ipmax','Vpmax','Pmax','time','ModuleYear','ModuleMonth','module'], axis=1)\n",
    "y = df['Temp_Mid_avg']"
   ]
  },
  {
   "cell_type": "code",
   "execution_count": 83,
   "metadata": {},
   "outputs": [],
   "source": [
    "# Splitting the dataset into the Training set and Test set\n",
    "\n",
    "from sklearn.model_selection import train_test_split\n",
    "X_train, X_test, y_train, y_test = train_test_split(x, y, test_size = 0.25, random_state = 0)"
   ]
  },
  {
   "cell_type": "code",
   "execution_count": 84,
   "metadata": {},
   "outputs": [],
   "source": [
    "# Fitting Random Forest Regression to the Training set\n",
    "\n",
    "from sklearn.ensemble import RandomForestRegressor\n",
    "regressor = RandomForestRegressor(n_estimators = 50, random_state = 0)"
   ]
  },
  {
   "cell_type": "code",
   "execution_count": 85,
   "metadata": {},
   "outputs": [
    {
     "data": {
      "text/html": [
       "<style>#sk-container-id-5 {color: black;background-color: white;}#sk-container-id-5 pre{padding: 0;}#sk-container-id-5 div.sk-toggleable {background-color: white;}#sk-container-id-5 label.sk-toggleable__label {cursor: pointer;display: block;width: 100%;margin-bottom: 0;padding: 0.3em;box-sizing: border-box;text-align: center;}#sk-container-id-5 label.sk-toggleable__label-arrow:before {content: \"▸\";float: left;margin-right: 0.25em;color: #696969;}#sk-container-id-5 label.sk-toggleable__label-arrow:hover:before {color: black;}#sk-container-id-5 div.sk-estimator:hover label.sk-toggleable__label-arrow:before {color: black;}#sk-container-id-5 div.sk-toggleable__content {max-height: 0;max-width: 0;overflow: hidden;text-align: left;background-color: #f0f8ff;}#sk-container-id-5 div.sk-toggleable__content pre {margin: 0.2em;color: black;border-radius: 0.25em;background-color: #f0f8ff;}#sk-container-id-5 input.sk-toggleable__control:checked~div.sk-toggleable__content {max-height: 200px;max-width: 100%;overflow: auto;}#sk-container-id-5 input.sk-toggleable__control:checked~label.sk-toggleable__label-arrow:before {content: \"▾\";}#sk-container-id-5 div.sk-estimator input.sk-toggleable__control:checked~label.sk-toggleable__label {background-color: #d4ebff;}#sk-container-id-5 div.sk-label input.sk-toggleable__control:checked~label.sk-toggleable__label {background-color: #d4ebff;}#sk-container-id-5 input.sk-hidden--visually {border: 0;clip: rect(1px 1px 1px 1px);clip: rect(1px, 1px, 1px, 1px);height: 1px;margin: -1px;overflow: hidden;padding: 0;position: absolute;width: 1px;}#sk-container-id-5 div.sk-estimator {font-family: monospace;background-color: #f0f8ff;border: 1px dotted black;border-radius: 0.25em;box-sizing: border-box;margin-bottom: 0.5em;}#sk-container-id-5 div.sk-estimator:hover {background-color: #d4ebff;}#sk-container-id-5 div.sk-parallel-item::after {content: \"\";width: 100%;border-bottom: 1px solid gray;flex-grow: 1;}#sk-container-id-5 div.sk-label:hover label.sk-toggleable__label {background-color: #d4ebff;}#sk-container-id-5 div.sk-serial::before {content: \"\";position: absolute;border-left: 1px solid gray;box-sizing: border-box;top: 0;bottom: 0;left: 50%;z-index: 0;}#sk-container-id-5 div.sk-serial {display: flex;flex-direction: column;align-items: center;background-color: white;padding-right: 0.2em;padding-left: 0.2em;position: relative;}#sk-container-id-5 div.sk-item {position: relative;z-index: 1;}#sk-container-id-5 div.sk-parallel {display: flex;align-items: stretch;justify-content: center;background-color: white;position: relative;}#sk-container-id-5 div.sk-item::before, #sk-container-id-5 div.sk-parallel-item::before {content: \"\";position: absolute;border-left: 1px solid gray;box-sizing: border-box;top: 0;bottom: 0;left: 50%;z-index: -1;}#sk-container-id-5 div.sk-parallel-item {display: flex;flex-direction: column;z-index: 1;position: relative;background-color: white;}#sk-container-id-5 div.sk-parallel-item:first-child::after {align-self: flex-end;width: 50%;}#sk-container-id-5 div.sk-parallel-item:last-child::after {align-self: flex-start;width: 50%;}#sk-container-id-5 div.sk-parallel-item:only-child::after {width: 0;}#sk-container-id-5 div.sk-dashed-wrapped {border: 1px dashed gray;margin: 0 0.4em 0.5em 0.4em;box-sizing: border-box;padding-bottom: 0.4em;background-color: white;}#sk-container-id-5 div.sk-label label {font-family: monospace;font-weight: bold;display: inline-block;line-height: 1.2em;}#sk-container-id-5 div.sk-label-container {text-align: center;}#sk-container-id-5 div.sk-container {/* jupyter's `normalize.less` sets `[hidden] { display: none; }` but bootstrap.min.css set `[hidden] { display: none !important; }` so we also need the `!important` here to be able to override the default hidden behavior on the sphinx rendered scikit-learn.org. See: https://github.com/scikit-learn/scikit-learn/issues/21755 */display: inline-block !important;position: relative;}#sk-container-id-5 div.sk-text-repr-fallback {display: none;}</style><div id=\"sk-container-id-5\" class=\"sk-top-container\"><div class=\"sk-text-repr-fallback\"><pre>RandomForestRegressor(n_estimators=50, random_state=0)</pre><b>In a Jupyter environment, please rerun this cell to show the HTML representation or trust the notebook. <br />On GitHub, the HTML representation is unable to render, please try loading this page with nbviewer.org.</b></div><div class=\"sk-container\" hidden><div class=\"sk-item\"><div class=\"sk-estimator sk-toggleable\"><input class=\"sk-toggleable__control sk-hidden--visually\" id=\"sk-estimator-id-5\" type=\"checkbox\" checked><label for=\"sk-estimator-id-5\" class=\"sk-toggleable__label sk-toggleable__label-arrow\">RandomForestRegressor</label><div class=\"sk-toggleable__content\"><pre>RandomForestRegressor(n_estimators=50, random_state=0)</pre></div></div></div></div></div>"
      ],
      "text/plain": [
       "RandomForestRegressor(n_estimators=50, random_state=0)"
      ]
     },
     "execution_count": 85,
     "metadata": {},
     "output_type": "execute_result"
    }
   ],
   "source": [
    "#Fit (train) the model\n",
    "regressor.fit(X_train, y_train)"
   ]
  },
  {
   "cell_type": "code",
   "execution_count": 17,
   "metadata": {},
   "outputs": [
    {
     "data": {
      "text/html": [
       "<div>\n",
       "<style scoped>\n",
       "    .dataframe tbody tr th:only-of-type {\n",
       "        vertical-align: middle;\n",
       "    }\n",
       "\n",
       "    .dataframe tbody tr th {\n",
       "        vertical-align: top;\n",
       "    }\n",
       "\n",
       "    .dataframe thead th {\n",
       "        text-align: right;\n",
       "    }\n",
       "</style>\n",
       "<table border=\"1\" class=\"dataframe\">\n",
       "  <thead>\n",
       "    <tr style=\"text-align: right;\">\n",
       "      <th></th>\n",
       "      <th>Gt</th>\n",
       "      <th>WS</th>\n",
       "      <th>Tamb</th>\n",
       "    </tr>\n",
       "  </thead>\n",
       "  <tbody>\n",
       "    <tr>\n",
       "      <th>13404</th>\n",
       "      <td>186.0443</td>\n",
       "      <td>1.842</td>\n",
       "      <td>21.15</td>\n",
       "    </tr>\n",
       "    <tr>\n",
       "      <th>6226</th>\n",
       "      <td>501.9459</td>\n",
       "      <td>0.969</td>\n",
       "      <td>34.56</td>\n",
       "    </tr>\n",
       "    <tr>\n",
       "      <th>11982</th>\n",
       "      <td>259.9785</td>\n",
       "      <td>0.872</td>\n",
       "      <td>30.06</td>\n",
       "    </tr>\n",
       "    <tr>\n",
       "      <th>776</th>\n",
       "      <td>114.8557</td>\n",
       "      <td>0.123</td>\n",
       "      <td>9.46</td>\n",
       "    </tr>\n",
       "    <tr>\n",
       "      <th>1969</th>\n",
       "      <td>303.4869</td>\n",
       "      <td>1.944</td>\n",
       "      <td>23.29</td>\n",
       "    </tr>\n",
       "  </tbody>\n",
       "</table>\n",
       "</div>"
      ],
      "text/plain": [
       "             Gt     WS   Tamb\n",
       "13404  186.0443  1.842  21.15\n",
       "6226   501.9459  0.969  34.56\n",
       "11982  259.9785  0.872  30.06\n",
       "776    114.8557  0.123   9.46\n",
       "1969   303.4869  1.944  23.29"
      ]
     },
     "execution_count": 17,
     "metadata": {},
     "output_type": "execute_result"
    }
   ],
   "source": [
    "X_train.head()"
   ]
  },
  {
   "cell_type": "code",
   "execution_count": 18,
   "metadata": {},
   "outputs": [
    {
     "data": {
      "text/plain": [
       "13404    23.10\n",
       "6226     47.39\n",
       "11982    49.53\n",
       "776      13.25\n",
       "1969     33.64\n",
       "Name: Temp_Mid_avg, dtype: float64"
      ]
     },
     "execution_count": 18,
     "metadata": {},
     "output_type": "execute_result"
    }
   ],
   "source": [
    "y_train.head()"
   ]
  },
  {
   "cell_type": "code",
   "execution_count": 86,
   "metadata": {},
   "outputs": [],
   "source": [
    "# Predicting the Test set results\n",
    "\n",
    "y_pred = regressor.predict(X_test)"
   ]
  },
  {
   "cell_type": "code",
   "execution_count": 20,
   "metadata": {},
   "outputs": [
    {
     "name": "stdout",
     "output_type": "stream",
     "text": [
      "Mean Absolute Error: 3.0536064098148943\n",
      "Mean Squared Error: 16.046054801269136\n",
      "Root Mean Squared Error: 4.005752713444645\n"
     ]
    }
   ],
   "source": [
    "# Evaluating the Algorithm\n",
    "\n",
    "from sklearn import metrics\n",
    "print('Mean Absolute Error:', metrics.mean_absolute_error(y_test, y_pred))  \n",
    "print('Mean Squared Error:', metrics.mean_squared_error(y_test, y_pred))  \n",
    "print('Root Mean Squared Error:', np.sqrt(metrics.mean_squared_error(y_test, y_pred)))"
   ]
  },
  {
   "cell_type": "code",
   "execution_count": 21,
   "metadata": {},
   "outputs": [
    {
     "name": "stdout",
     "output_type": "stream",
     "text": [
      "Mean Absolute Error: 3.0537874623331893\n",
      "Mean Squared Error: 16.057429670356488\n",
      "Root Mean Squared Error: 4.007172278597027\n"
     ]
    }
   ],
   "source": [
    "regressor = RandomForestRegressor(n_estimators = 40, random_state = 0)\n",
    "\n",
    "regressor.fit(X_train, y_train)\n",
    "\n",
    "y_pred = regressor.predict(X_test)\n",
    "\n",
    "print('Mean Absolute Error:', metrics.mean_absolute_error(y_test, y_pred))  \n",
    "print('Mean Squared Error:', metrics.mean_squared_error(y_test, y_pred))  \n",
    "print('Root Mean Squared Error:', np.sqrt(metrics.mean_squared_error(y_test, y_pred)))"
   ]
  },
  {
   "cell_type": "code",
   "execution_count": 22,
   "metadata": {},
   "outputs": [
    {
     "name": "stdout",
     "output_type": "stream",
     "text": [
      "Mean Absolute Error: 3.0645173515679325\n",
      "Mean Squared Error: 16.251041361161345\n",
      "Root Mean Squared Error: 4.031258037035256\n"
     ]
    }
   ],
   "source": [
    "regressor = RandomForestRegressor(n_estimators = 26, random_state = 0)\n",
    "\n",
    "regressor.fit(X_train, y_train)\n",
    "\n",
    "y_pred = regressor.predict(X_test)\n",
    "\n",
    "print('Mean Absolute Error:', metrics.mean_absolute_error(y_test, y_pred))  \n",
    "print('Mean Squared Error:', metrics.mean_squared_error(y_test, y_pred))  \n",
    "print('Root Mean Squared Error:', np.sqrt(metrics.mean_squared_error(y_test, y_pred)))"
   ]
  },
  {
   "cell_type": "code",
   "execution_count": 23,
   "metadata": {},
   "outputs": [],
   "source": [
    "df['date'] = pd.date_range(start='1/1/2010', periods=len(df), freq='8H')"
   ]
  },
  {
   "cell_type": "code",
   "execution_count": 24,
   "metadata": {},
   "outputs": [
    {
     "name": "stderr",
     "output_type": "stream",
     "text": [
      "/tmp/ipykernel_1799/821852433.py:1: FutureWarning: Dropping of nuisance columns in rolling operations is deprecated; in a future version this will raise TypeError. Select only valid columns before calling the operation. Dropped columns were Index(['date', 'module', 'time'], dtype='object')\n",
      "  y_test.sort_index().rolling(40).mean().shape, df.rolling(40).mean().shape\n"
     ]
    },
    {
     "data": {
      "text/plain": [
       "((4646,), (18581, 12))"
      ]
     },
     "execution_count": 24,
     "metadata": {},
     "output_type": "execute_result"
    }
   ],
   "source": [
    "\n",
    "y_test.sort_index().rolling(40).mean().shape, df.rolling(40).mean().shape"
   ]
  },
  {
   "cell_type": "code",
   "execution_count": 25,
   "metadata": {},
   "outputs": [],
   "source": [
    "datetime = pd.date_range(start='1/1/2010', periods=730, freq='8H')"
   ]
  },
  {
   "cell_type": "code",
   "execution_count": 26,
   "metadata": {},
   "outputs": [
    {
     "data": {
      "text/html": [
       "<div>\n",
       "<style scoped>\n",
       "    .dataframe tbody tr th:only-of-type {\n",
       "        vertical-align: middle;\n",
       "    }\n",
       "\n",
       "    .dataframe tbody tr th {\n",
       "        vertical-align: top;\n",
       "    }\n",
       "\n",
       "    .dataframe thead th {\n",
       "        text-align: right;\n",
       "    }\n",
       "</style>\n",
       "<table border=\"1\" class=\"dataframe\">\n",
       "  <thead>\n",
       "    <tr style=\"text-align: right;\">\n",
       "      <th></th>\n",
       "      <th>Actual value</th>\n",
       "      <th>Predicted value</th>\n",
       "    </tr>\n",
       "  </thead>\n",
       "  <tbody>\n",
       "    <tr>\n",
       "      <th>11632</th>\n",
       "      <td>44.540</td>\n",
       "      <td>38.933077</td>\n",
       "    </tr>\n",
       "    <tr>\n",
       "      <th>13860</th>\n",
       "      <td>47.430</td>\n",
       "      <td>47.369231</td>\n",
       "    </tr>\n",
       "    <tr>\n",
       "      <th>9643</th>\n",
       "      <td>63.530</td>\n",
       "      <td>61.840385</td>\n",
       "    </tr>\n",
       "    <tr>\n",
       "      <th>17125</th>\n",
       "      <td>7.205</td>\n",
       "      <td>13.653769</td>\n",
       "    </tr>\n",
       "    <tr>\n",
       "      <th>7054</th>\n",
       "      <td>54.540</td>\n",
       "      <td>52.884615</td>\n",
       "    </tr>\n",
       "  </tbody>\n",
       "</table>\n",
       "</div>"
      ],
      "text/plain": [
       "       Actual value  Predicted value\n",
       "11632        44.540        38.933077\n",
       "13860        47.430        47.369231\n",
       "9643         63.530        61.840385\n",
       "17125         7.205        13.653769\n",
       "7054         54.540        52.884615"
      ]
     },
     "execution_count": 26,
     "metadata": {},
     "output_type": "execute_result"
    }
   ],
   "source": [
    "#Actual value and the predicted value\n",
    "diff = pd.DataFrame({'Actual value': y_test, 'Predicted value': y_pred})\n",
    "diff.head()\n"
   ]
  },
  {
   "cell_type": "code",
   "execution_count": 27,
   "metadata": {},
   "outputs": [
    {
     "ename": "NameError",
     "evalue": "name 'plt' is not defined",
     "output_type": "error",
     "traceback": [
      "\u001b[0;31m---------------------------------------------------------------------------\u001b[0m",
      "\u001b[0;31mNameError\u001b[0m                                 Traceback (most recent call last)",
      "Input \u001b[0;32mIn [27]\u001b[0m, in \u001b[0;36m<cell line: 1>\u001b[0;34m()\u001b[0m\n\u001b[0;32m----> 1\u001b[0m \u001b[43mplt\u001b[49m\u001b[38;5;241m.\u001b[39mplot(diff[\u001b[38;5;124m'\u001b[39m\u001b[38;5;124mPredicted value\u001b[39m\u001b[38;5;124m'\u001b[39m]\u001b[38;5;241m.\u001b[39mrolling(\u001b[38;5;241m40\u001b[39m)\u001b[38;5;241m.\u001b[39mmean(), diff[\u001b[38;5;124m'\u001b[39m\u001b[38;5;124mActual value\u001b[39m\u001b[38;5;124m'\u001b[39m]\u001b[38;5;241m.\u001b[39mrolling(\u001b[38;5;241m40\u001b[39m)\u001b[38;5;241m.\u001b[39mmean(), \u001b[38;5;124m'\u001b[39m\u001b[38;5;124mo\u001b[39m\u001b[38;5;124m'\u001b[39m)\n\u001b[1;32m      2\u001b[0m plt\u001b[38;5;241m.\u001b[39mtitle(\u001b[38;5;124m'\u001b[39m\u001b[38;5;124mActual vs Predicted Module Temperature\u001b[39m\u001b[38;5;124m'\u001b[39m)\n\u001b[1;32m      3\u001b[0m plt\u001b[38;5;241m.\u001b[39mxlabel(\u001b[38;5;124m'\u001b[39m\u001b[38;5;124mPredicted Module Temperature (Celcius)\u001b[39m\u001b[38;5;124m'\u001b[39m)\n",
      "\u001b[0;31mNameError\u001b[0m: name 'plt' is not defined"
     ]
    }
   ],
   "source": [
    "plt.plot(diff['Predicted value'].rolling(40).mean(), diff['Actual value'].rolling(40).mean(), 'o')\n",
    "plt.title('Actual vs Predicted Module Temperature')\n",
    "plt.xlabel('Predicted Module Temperature (Celcius)')\n",
    "plt.ylabel('Actual Module Temperature (Celcius)')"
   ]
  },
  {
   "cell_type": "code",
   "execution_count": null,
   "metadata": {},
   "outputs": [],
   "source": [
    "s = pd.Series(y_pred)\n",
    "plt.plot(s.rolling(40).mean()) "
   ]
  },
  {
   "cell_type": "code",
   "execution_count": null,
   "metadata": {},
   "outputs": [],
   "source": [
    "#38.933077 = a*186.0443 + b*1.842 + c*21.15 + d\n",
    "\n",
    "#47.369231 = a*501.9459 + b*0.969 + c*34.56 + d\n",
    "\n",
    "#61.840385 = a*259.9785 + b*0.872 + c*30.06 + d\n",
    "\n",
    "#13.653769 = a*114.8557 + b*0.123 + c*9.46 + d\n",
    "\n",
    "A = np.array([[186.0443,1.842,21.15,1],[501.9459,0.969,34.56,1],[259.9785,0.872,30.06,1],[114.8557,0.123,9.46,1]])\n",
    "B = np.array([38.933077,47.369231,61.840385,13.653769])\n",
    "X2=np.linalg.solve(A,B)\n",
    "print(X2)"
   ]
  },
  {
   "cell_type": "code",
   "execution_count": null,
   "metadata": {},
   "outputs": [],
   "source": [
    "#E = PV electrical efficiency\n",
    "#ETref = Module's electrical efficiency\n",
    "#Bref = Temperature coefficient\n",
    "#Tref = Reference temperature\n",
    "#Tc = Module temperature \n",
    "\n",
    "# E=ETref[1-Bref(Tc-Tref)]\n",
    "\n",
    "#E=0.12[1-0.0045*(38.933077-25)]\n",
    "#E=0.12[1-0.0045*(47.369231-25)]\n",
    "#E=0.12[1-0.0045*(61.840385-25)]\n",
    "#E=0.12[1-0.0045*(13.653769-25)]\n"
   ]
  },
  {
   "cell_type": "markdown",
   "metadata": {},
   "source": [
    "### Efficiency and power"
   ]
  },
  {
   "cell_type": "code",
   "execution_count": null,
   "metadata": {},
   "outputs": [],
   "source": [
    "# Create a pandas DataFrame with the values to calculate E\n",
    "data = pd.DataFrame({'values': [38.933077, 47.369231, 61.840385, 13.653769]})\n",
    "\n",
    "# Define a lambda function to calculate E using the formula\n",
    "calculate_E = lambda x: 0.12*(1 - 0.0045*(x - 25))\n",
    "\n",
    "# Apply the lambda function to each row of the DataFrame and store the result in a new column\n",
    "data['E'] = data['values'].apply(calculate_E)\n",
    "\n",
    "# Print the resulting DataFrame\n",
    "print(data)\n"
   ]
  },
  {
   "cell_type": "code",
   "execution_count": null,
   "metadata": {},
   "outputs": [],
   "source": [
    "#To Expression for power output : P=EAGt\n",
    "\n",
    "# P=  0.112476*1.05*186.0443\n",
    "# P=  0.107921*1.05*501.9459\n",
    "# P=  0.100106*1.05*259.9785\n",
    "# p=  0.126127*1.05*114.8557\n"
   ]
  },
  {
   "cell_type": "code",
   "execution_count": null,
   "metadata": {},
   "outputs": [],
   "source": [
    "S=pd.DataFrame({'coeff': [0.112476, 0.107921, 0.100106, 0.126127], 'factor': [1.05, 1.05, 1.05, 1.05], 'value': [186.0443, 501.9459, 259.9785, 114.8557]})\n",
    "\n",
    "calculate_P = lambda x: x['coeff']*x['factor']*x['value']\n",
    "\n",
    "S['P'] = S.apply(calculate_P, axis=1)\n",
    "\n",
    "print(S)"
   ]
  },
  {
   "cell_type": "code",
   "execution_count": null,
   "metadata": {},
   "outputs": [],
   "source": []
  },
  {
   "cell_type": "markdown",
   "metadata": {},
   "source": [
    "## Modeling with SVR"
   ]
  },
  {
   "cell_type": "code",
   "execution_count": 91,
   "metadata": {},
   "outputs": [],
   "source": [
    "from sklearn.svm import SVR\n",
    "from sklearn.model_selection import train_test_split\n",
    "from sklearn.preprocessing import StandardScaler"
   ]
  },
  {
   "cell_type": "code",
   "execution_count": 92,
   "metadata": {},
   "outputs": [],
   "source": [
    "df = pd.read_csv('Solar PV HIT-data.csv')"
   ]
  },
  {
   "cell_type": "code",
   "execution_count": 93,
   "metadata": {},
   "outputs": [],
   "source": [
    "#split x and y\n",
    "\n",
    "x = df.drop(columns=['Temp_Mid_avg','Isc','Voc','Ipmax','Vpmax','Pmax','time','ModuleYear','ModuleMonth','module']).values\n",
    "y = df['Temp_Mid_avg'].values"
   ]
  },
  {
   "cell_type": "code",
   "execution_count": 94,
   "metadata": {},
   "outputs": [],
   "source": [
    "from sklearn.model_selection import train_test_split\n",
    "X_train, X_test, y_train, y_test = train_test_split(x, y, test_size = 0.25, random_state = 0)"
   ]
  },
  {
   "cell_type": "code",
   "execution_count": 35,
   "metadata": {},
   "outputs": [
    {
     "data": {
      "text/plain": [
       "array([[135.424 ,   0.684 ,   8.26  ],\n",
       "       [174.8295,   0.493 ,   8.75  ],\n",
       "       [208.2349,   0.694 ,   9.29  ],\n",
       "       ...,\n",
       "       [214.2968,   2.555 ,  15.05  ],\n",
       "       [190.5222,   1.437 ,  15.24  ],\n",
       "       [121.3394,   1.924 ,  14.81  ]])"
      ]
     },
     "execution_count": 35,
     "metadata": {},
     "output_type": "execute_result"
    }
   ],
   "source": [
    "x"
   ]
  },
  {
   "cell_type": "code",
   "execution_count": 95,
   "metadata": {},
   "outputs": [],
   "source": [
    "# Scale the features using standardization\n",
    "sc_X = StandardScaler()\n",
    "X_train = sc_X.fit_transform(X_train)\n",
    "X_test = sc_X.transform(X_test)"
   ]
  },
  {
   "cell_type": "code",
   "execution_count": 96,
   "metadata": {},
   "outputs": [],
   "source": [
    "# Create the SVR model\n",
    "svr = SVR(kernel='linear')"
   ]
  },
  {
   "cell_type": "code",
   "execution_count": 97,
   "metadata": {},
   "outputs": [
    {
     "data": {
      "text/html": [
       "<style>#sk-container-id-6 {color: black;background-color: white;}#sk-container-id-6 pre{padding: 0;}#sk-container-id-6 div.sk-toggleable {background-color: white;}#sk-container-id-6 label.sk-toggleable__label {cursor: pointer;display: block;width: 100%;margin-bottom: 0;padding: 0.3em;box-sizing: border-box;text-align: center;}#sk-container-id-6 label.sk-toggleable__label-arrow:before {content: \"▸\";float: left;margin-right: 0.25em;color: #696969;}#sk-container-id-6 label.sk-toggleable__label-arrow:hover:before {color: black;}#sk-container-id-6 div.sk-estimator:hover label.sk-toggleable__label-arrow:before {color: black;}#sk-container-id-6 div.sk-toggleable__content {max-height: 0;max-width: 0;overflow: hidden;text-align: left;background-color: #f0f8ff;}#sk-container-id-6 div.sk-toggleable__content pre {margin: 0.2em;color: black;border-radius: 0.25em;background-color: #f0f8ff;}#sk-container-id-6 input.sk-toggleable__control:checked~div.sk-toggleable__content {max-height: 200px;max-width: 100%;overflow: auto;}#sk-container-id-6 input.sk-toggleable__control:checked~label.sk-toggleable__label-arrow:before {content: \"▾\";}#sk-container-id-6 div.sk-estimator input.sk-toggleable__control:checked~label.sk-toggleable__label {background-color: #d4ebff;}#sk-container-id-6 div.sk-label input.sk-toggleable__control:checked~label.sk-toggleable__label {background-color: #d4ebff;}#sk-container-id-6 input.sk-hidden--visually {border: 0;clip: rect(1px 1px 1px 1px);clip: rect(1px, 1px, 1px, 1px);height: 1px;margin: -1px;overflow: hidden;padding: 0;position: absolute;width: 1px;}#sk-container-id-6 div.sk-estimator {font-family: monospace;background-color: #f0f8ff;border: 1px dotted black;border-radius: 0.25em;box-sizing: border-box;margin-bottom: 0.5em;}#sk-container-id-6 div.sk-estimator:hover {background-color: #d4ebff;}#sk-container-id-6 div.sk-parallel-item::after {content: \"\";width: 100%;border-bottom: 1px solid gray;flex-grow: 1;}#sk-container-id-6 div.sk-label:hover label.sk-toggleable__label {background-color: #d4ebff;}#sk-container-id-6 div.sk-serial::before {content: \"\";position: absolute;border-left: 1px solid gray;box-sizing: border-box;top: 0;bottom: 0;left: 50%;z-index: 0;}#sk-container-id-6 div.sk-serial {display: flex;flex-direction: column;align-items: center;background-color: white;padding-right: 0.2em;padding-left: 0.2em;position: relative;}#sk-container-id-6 div.sk-item {position: relative;z-index: 1;}#sk-container-id-6 div.sk-parallel {display: flex;align-items: stretch;justify-content: center;background-color: white;position: relative;}#sk-container-id-6 div.sk-item::before, #sk-container-id-6 div.sk-parallel-item::before {content: \"\";position: absolute;border-left: 1px solid gray;box-sizing: border-box;top: 0;bottom: 0;left: 50%;z-index: -1;}#sk-container-id-6 div.sk-parallel-item {display: flex;flex-direction: column;z-index: 1;position: relative;background-color: white;}#sk-container-id-6 div.sk-parallel-item:first-child::after {align-self: flex-end;width: 50%;}#sk-container-id-6 div.sk-parallel-item:last-child::after {align-self: flex-start;width: 50%;}#sk-container-id-6 div.sk-parallel-item:only-child::after {width: 0;}#sk-container-id-6 div.sk-dashed-wrapped {border: 1px dashed gray;margin: 0 0.4em 0.5em 0.4em;box-sizing: border-box;padding-bottom: 0.4em;background-color: white;}#sk-container-id-6 div.sk-label label {font-family: monospace;font-weight: bold;display: inline-block;line-height: 1.2em;}#sk-container-id-6 div.sk-label-container {text-align: center;}#sk-container-id-6 div.sk-container {/* jupyter's `normalize.less` sets `[hidden] { display: none; }` but bootstrap.min.css set `[hidden] { display: none !important; }` so we also need the `!important` here to be able to override the default hidden behavior on the sphinx rendered scikit-learn.org. See: https://github.com/scikit-learn/scikit-learn/issues/21755 */display: inline-block !important;position: relative;}#sk-container-id-6 div.sk-text-repr-fallback {display: none;}</style><div id=\"sk-container-id-6\" class=\"sk-top-container\"><div class=\"sk-text-repr-fallback\"><pre>SVR(kernel=&#x27;linear&#x27;)</pre><b>In a Jupyter environment, please rerun this cell to show the HTML representation or trust the notebook. <br />On GitHub, the HTML representation is unable to render, please try loading this page with nbviewer.org.</b></div><div class=\"sk-container\" hidden><div class=\"sk-item\"><div class=\"sk-estimator sk-toggleable\"><input class=\"sk-toggleable__control sk-hidden--visually\" id=\"sk-estimator-id-6\" type=\"checkbox\" checked><label for=\"sk-estimator-id-6\" class=\"sk-toggleable__label sk-toggleable__label-arrow\">SVR</label><div class=\"sk-toggleable__content\"><pre>SVR(kernel=&#x27;linear&#x27;)</pre></div></div></div></div></div>"
      ],
      "text/plain": [
       "SVR(kernel='linear')"
      ]
     },
     "execution_count": 97,
     "metadata": {},
     "output_type": "execute_result"
    }
   ],
   "source": [
    "# Train the SVR model\n",
    "svr.fit(X_train, y_train)"
   ]
  },
  {
   "cell_type": "code",
   "execution_count": 98,
   "metadata": {},
   "outputs": [],
   "source": [
    "y_pred = svr.predict(X_test)"
   ]
  },
  {
   "cell_type": "code",
   "execution_count": null,
   "metadata": {},
   "outputs": [],
   "source": [
    "y_test = y_test[:len(y_pred)]"
   ]
  },
  {
   "cell_type": "code",
   "execution_count": 43,
   "metadata": {},
   "outputs": [
    {
     "name": "stdout",
     "output_type": "stream",
     "text": [
      "Mean Absolute Error: 3.192123862806484\n",
      "Mean Squared Error: 17.785714242689618\n",
      "Root Mean Squared Error: 4.21731125750633\n"
     ]
    }
   ],
   "source": [
    "# Evaluate the performance of the model using metrics (e.g., mean squared error)\n",
    "from sklearn.metrics import mean_squared_error\n",
    "print('Mean Absolute Error:', metrics.mean_absolute_error(y_test, y_pred))  \n",
    "print('Mean Squared Error:', metrics.mean_squared_error(y_test, y_pred))  \n",
    "print('Root Mean Squared Error:', np.sqrt(metrics.mean_squared_error(y_test, y_pred)))"
   ]
  },
  {
   "cell_type": "code",
   "execution_count": 44,
   "metadata": {},
   "outputs": [
    {
     "name": "stdout",
     "output_type": "stream",
     "text": [
      "Mean Absolute Error: 2.890580237852462\n",
      "Mean Squared Error: 15.033823573698754\n",
      "Root Mean Squared Error: 3.8773474919974293\n"
     ]
    }
   ],
   "source": [
    "svr = SVR(kernel='rbf')\n",
    "\n",
    "svr.fit(X_train, y_train)\n",
    "y_pred = svr.predict(X_test)\n",
    "y_test = y_test[:len(y_pred)]\n",
    "\n",
    "\n",
    "print('Mean Absolute Error:', metrics.mean_absolute_error(y_test, y_pred))  \n",
    "print('Mean Squared Error:', metrics.mean_squared_error(y_test, y_pred))  \n",
    "print('Root Mean Squared Error:', np.sqrt(metrics.mean_squared_error(y_test, y_pred)))"
   ]
  },
  {
   "cell_type": "code",
   "execution_count": 45,
   "metadata": {},
   "outputs": [
    {
     "name": "stdout",
     "output_type": "stream",
     "text": [
      "Mean Absolute Error: 4.924238853974263\n",
      "Mean Squared Error: 41.27404602690031\n",
      "Root Mean Squared Error: 6.424487997257081\n"
     ]
    }
   ],
   "source": [
    "svr = SVR(kernel='poly')\n",
    "\n",
    "svr.fit(X_train, y_train)\n",
    "y_pred = svr.predict(X_test)\n",
    "y_test = y_test[:len(y_pred)]\n",
    "\n",
    "\n",
    "print('Mean Absolute Error:', metrics.mean_absolute_error(y_test, y_pred))  \n",
    "print('Mean Squared Error:', metrics.mean_squared_error(y_test, y_pred))  \n",
    "print('Root Mean Squared Error:', np.sqrt(metrics.mean_squared_error(y_test, y_pred)))"
   ]
  },
  {
   "cell_type": "code",
   "execution_count": null,
   "metadata": {},
   "outputs": [],
   "source": [
    "df['date'] = pd.date_range(start='1/1/2010', periods=len(df), freq='8H')"
   ]
  },
  {
   "cell_type": "code",
   "execution_count": null,
   "metadata": {},
   "outputs": [],
   "source": [
    "y_test = pd.Series(y_test)\n",
    "y_test.sort_index().rolling(40).mean().shape, df.rolling(40).mean().shape"
   ]
  },
  {
   "cell_type": "code",
   "execution_count": null,
   "metadata": {},
   "outputs": [],
   "source": [
    "datetime = pd.date_range(start='1/1/2010', periods=730, freq='8H')"
   ]
  },
  {
   "cell_type": "code",
   "execution_count": null,
   "metadata": {},
   "outputs": [],
   "source": [
    "#Actual value and the predicted value\n",
    "diff = pd.DataFrame({'Actual value': y_test, 'Predicted value': y_pred})\n",
    "diff.head()"
   ]
  },
  {
   "cell_type": "code",
   "execution_count": null,
   "metadata": {},
   "outputs": [],
   "source": [
    "plt.plot(diff['Predicted value'].rolling(40).mean(), diff['Actual value'].rolling(40).mean(), 'o')\n",
    "plt.title('Actual vs Predicted Module Temperature')\n",
    "plt.xlabel('Predicted Module Temperature (Celcius)')\n",
    "plt.ylabel('Actual Module Temperature (Celcius)')"
   ]
  },
  {
   "cell_type": "code",
   "execution_count": null,
   "metadata": {},
   "outputs": [],
   "source": [
    "s = pd.Series(y_pred)\n",
    "plt.plot(s.rolling(40).mean()) "
   ]
  },
  {
   "cell_type": "code",
   "execution_count": null,
   "metadata": {},
   "outputs": [],
   "source": [
    "# Evaluate the model using cross-validation\n",
    "\n",
    "from sklearn.model_selection import cross_val_score\n",
    "scores = cross_val_score(svr, X_train, y_train, cv=5)\n",
    "print(\"Accuracy: {:.2f} %\".format(scores.mean() * 100))"
   ]
  },
  {
   "cell_type": "code",
   "execution_count": null,
   "metadata": {},
   "outputs": [],
   "source": [
    "#31.543277 = a*186.0443 + b*1.842 + c*21.15 + d\n",
    "\n",
    "#333.290699 = a*501.9459 + b*0.969 + c*34.56 + d\n",
    "\n",
    "#713.789627 = a*259.9785 + b*0.872 + c*30.06 + d\n",
    "\n",
    "#1845.903896 = a*114.8557 + b*0.123 + c*9.46 + d\n",
    "\n",
    "A = np.array([[186.0443,1.842,21.15,1],[501.9459,0.969,34.56,1],[259.9785,0.872,30.06,1],[114.8557,0.123,9.46,1]])\n",
    "B = np.array([31.543277,333.290699, 713.789627, 1845.903896 ])\n",
    "X2=np.linalg.solve(A,B)\n",
    "print(X2)"
   ]
  },
  {
   "cell_type": "code",
   "execution_count": null,
   "metadata": {},
   "outputs": [],
   "source": [
    "#E = PV electrical efficiency\n",
    "#ETref = Module's electrical efficiency\n",
    "#Bref = Temperature coefficient\n",
    "#Tref = Reference temperature\n",
    "#Tc = Module temperature \n",
    "\n",
    "# E=ETref[1-Bref(Tc-Tref)]\n",
    "\n",
    "# Create a pandas DataFrame with the values to calculate E\n",
    "data = pd.DataFrame({'values': [31.543277,333.290699, 713.789627, 1845.903896]})\n",
    "\n",
    "# Define a lambda function to calculate E using the formula\n",
    "calculate_E = lambda x: 0.12*(1 - 0.0045*(x - 25))\n",
    "\n",
    "# Apply the lambda function to each row of the DataFrame and store the result in a new column\n",
    "data['E'] = data['values'].apply(calculate_E)\n",
    "\n",
    "# Print the resulting DataFrame\n",
    "print(data)"
   ]
  },
  {
   "cell_type": "code",
   "execution_count": null,
   "metadata": {},
   "outputs": [],
   "source": [
    "#To Expression for power output : P=EAGt\n",
    "\n",
    "# P=   0.116467*1.05*186.0443\n",
    "# P=  -0.046477*1.05*501.9459\n",
    "# P=  -0.251946*1.05*259.9785\n",
    "# p=  -0.863288*1.05*114.8557\n",
    "\n",
    "S=pd.DataFrame({'coeff': [0.116467,-0.046477, -0.251946, -0.863288], 'factor': [1.05, 1.05, 1.05, 1.05], 'value': [186.0443, 501.9459, 259.9785, 114.8557]})\n",
    "\n",
    "calculate_P = lambda x: x['coeff']*x['factor']*x['value']\n",
    "\n",
    "S['P'] = S.apply(calculate_P, axis=1)\n",
    "\n",
    "print(S)\n"
   ]
  },
  {
   "cell_type": "code",
   "execution_count": null,
   "metadata": {},
   "outputs": [],
   "source": []
  },
  {
   "cell_type": "markdown",
   "metadata": {},
   "source": [
    "## Modeling using KNN"
   ]
  },
  {
   "cell_type": "code",
   "execution_count": 106,
   "metadata": {},
   "outputs": [],
   "source": [
    "import pandas as pd\n",
    "from sklearn.model_selection import train_test_split\n",
    "from sklearn.neighbors import KNeighborsRegressor\n",
    "from sklearn.metrics import mean_squared_error"
   ]
  },
  {
   "cell_type": "code",
   "execution_count": 107,
   "metadata": {},
   "outputs": [],
   "source": [
    "# Load the dataset\n",
    "data = pd.read_csv('Solar PV HIT-data.csv')"
   ]
  },
  {
   "cell_type": "code",
   "execution_count": 108,
   "metadata": {},
   "outputs": [],
   "source": [
    "# Split the dataset into training and test sets\n",
    "X = data.drop(['Temp_Mid_avg','Isc','Voc','Ipmax','Vpmax','Pmax','time','ModuleYear','ModuleMonth','module'], axis=1)\n",
    "y = data['Temp_Mid_avg']\n",
    "X_train, X_test, y_train, y_test = train_test_split(X, y, test_size=0.2, random_state=42)\n"
   ]
  },
  {
   "cell_type": "code",
   "execution_count": 109,
   "metadata": {},
   "outputs": [
    {
     "data": {
      "text/html": [
       "<style>#sk-container-id-7 {color: black;background-color: white;}#sk-container-id-7 pre{padding: 0;}#sk-container-id-7 div.sk-toggleable {background-color: white;}#sk-container-id-7 label.sk-toggleable__label {cursor: pointer;display: block;width: 100%;margin-bottom: 0;padding: 0.3em;box-sizing: border-box;text-align: center;}#sk-container-id-7 label.sk-toggleable__label-arrow:before {content: \"▸\";float: left;margin-right: 0.25em;color: #696969;}#sk-container-id-7 label.sk-toggleable__label-arrow:hover:before {color: black;}#sk-container-id-7 div.sk-estimator:hover label.sk-toggleable__label-arrow:before {color: black;}#sk-container-id-7 div.sk-toggleable__content {max-height: 0;max-width: 0;overflow: hidden;text-align: left;background-color: #f0f8ff;}#sk-container-id-7 div.sk-toggleable__content pre {margin: 0.2em;color: black;border-radius: 0.25em;background-color: #f0f8ff;}#sk-container-id-7 input.sk-toggleable__control:checked~div.sk-toggleable__content {max-height: 200px;max-width: 100%;overflow: auto;}#sk-container-id-7 input.sk-toggleable__control:checked~label.sk-toggleable__label-arrow:before {content: \"▾\";}#sk-container-id-7 div.sk-estimator input.sk-toggleable__control:checked~label.sk-toggleable__label {background-color: #d4ebff;}#sk-container-id-7 div.sk-label input.sk-toggleable__control:checked~label.sk-toggleable__label {background-color: #d4ebff;}#sk-container-id-7 input.sk-hidden--visually {border: 0;clip: rect(1px 1px 1px 1px);clip: rect(1px, 1px, 1px, 1px);height: 1px;margin: -1px;overflow: hidden;padding: 0;position: absolute;width: 1px;}#sk-container-id-7 div.sk-estimator {font-family: monospace;background-color: #f0f8ff;border: 1px dotted black;border-radius: 0.25em;box-sizing: border-box;margin-bottom: 0.5em;}#sk-container-id-7 div.sk-estimator:hover {background-color: #d4ebff;}#sk-container-id-7 div.sk-parallel-item::after {content: \"\";width: 100%;border-bottom: 1px solid gray;flex-grow: 1;}#sk-container-id-7 div.sk-label:hover label.sk-toggleable__label {background-color: #d4ebff;}#sk-container-id-7 div.sk-serial::before {content: \"\";position: absolute;border-left: 1px solid gray;box-sizing: border-box;top: 0;bottom: 0;left: 50%;z-index: 0;}#sk-container-id-7 div.sk-serial {display: flex;flex-direction: column;align-items: center;background-color: white;padding-right: 0.2em;padding-left: 0.2em;position: relative;}#sk-container-id-7 div.sk-item {position: relative;z-index: 1;}#sk-container-id-7 div.sk-parallel {display: flex;align-items: stretch;justify-content: center;background-color: white;position: relative;}#sk-container-id-7 div.sk-item::before, #sk-container-id-7 div.sk-parallel-item::before {content: \"\";position: absolute;border-left: 1px solid gray;box-sizing: border-box;top: 0;bottom: 0;left: 50%;z-index: -1;}#sk-container-id-7 div.sk-parallel-item {display: flex;flex-direction: column;z-index: 1;position: relative;background-color: white;}#sk-container-id-7 div.sk-parallel-item:first-child::after {align-self: flex-end;width: 50%;}#sk-container-id-7 div.sk-parallel-item:last-child::after {align-self: flex-start;width: 50%;}#sk-container-id-7 div.sk-parallel-item:only-child::after {width: 0;}#sk-container-id-7 div.sk-dashed-wrapped {border: 1px dashed gray;margin: 0 0.4em 0.5em 0.4em;box-sizing: border-box;padding-bottom: 0.4em;background-color: white;}#sk-container-id-7 div.sk-label label {font-family: monospace;font-weight: bold;display: inline-block;line-height: 1.2em;}#sk-container-id-7 div.sk-label-container {text-align: center;}#sk-container-id-7 div.sk-container {/* jupyter's `normalize.less` sets `[hidden] { display: none; }` but bootstrap.min.css set `[hidden] { display: none !important; }` so we also need the `!important` here to be able to override the default hidden behavior on the sphinx rendered scikit-learn.org. See: https://github.com/scikit-learn/scikit-learn/issues/21755 */display: inline-block !important;position: relative;}#sk-container-id-7 div.sk-text-repr-fallback {display: none;}</style><div id=\"sk-container-id-7\" class=\"sk-top-container\"><div class=\"sk-text-repr-fallback\"><pre>KNeighborsRegressor()</pre><b>In a Jupyter environment, please rerun this cell to show the HTML representation or trust the notebook. <br />On GitHub, the HTML representation is unable to render, please try loading this page with nbviewer.org.</b></div><div class=\"sk-container\" hidden><div class=\"sk-item\"><div class=\"sk-estimator sk-toggleable\"><input class=\"sk-toggleable__control sk-hidden--visually\" id=\"sk-estimator-id-7\" type=\"checkbox\" checked><label for=\"sk-estimator-id-7\" class=\"sk-toggleable__label sk-toggleable__label-arrow\">KNeighborsRegressor</label><div class=\"sk-toggleable__content\"><pre>KNeighborsRegressor()</pre></div></div></div></div></div>"
      ],
      "text/plain": [
       "KNeighborsRegressor()"
      ]
     },
     "execution_count": 109,
     "metadata": {},
     "output_type": "execute_result"
    }
   ],
   "source": [
    "# Train the KNN model\n",
    "knn = KNeighborsRegressor(n_neighbors=5)\n",
    "knn.fit(X_train, y_train)"
   ]
  },
  {
   "cell_type": "code",
   "execution_count": 110,
   "metadata": {},
   "outputs": [],
   "source": [
    "# Predict on the test set\n",
    "y_pred = knn.predict(X_test)"
   ]
  },
  {
   "cell_type": "code",
   "execution_count": 111,
   "metadata": {},
   "outputs": [
    {
     "name": "stdout",
     "output_type": "stream",
     "text": [
      "Mean Absolute Error: 3.3078777508743613\n",
      "Mean Squared Error: 18.808734385730425\n",
      "Root Mean Squared Error: 4.336903778703238\n"
     ]
    }
   ],
   "source": [
    "# Evaluate the performance of the model using metrics (e.g., mean squared error)\n",
    "\n",
    "from sklearn.metrics import mean_squared_error\n",
    "print('Mean Absolute Error:', metrics.mean_absolute_error(y_test, y_pred))  \n",
    "print('Mean Squared Error:', metrics.mean_squared_error(y_test, y_pred))  \n",
    "print('Root Mean Squared Error:', np.sqrt(metrics.mean_squared_error(y_test, y_pred)))"
   ]
  },
  {
   "cell_type": "code",
   "execution_count": 52,
   "metadata": {},
   "outputs": [
    {
     "name": "stdout",
     "output_type": "stream",
     "text": [
      "Mean Absolute Error: 3.4961573849878933\n",
      "Mean Squared Error: 21.02387537539234\n",
      "Root Mean Squared Error: 4.585179971974092\n"
     ]
    }
   ],
   "source": [
    "knn = KNeighborsRegressor(n_neighbors=3)\n",
    "knn.fit(X_train, y_train)\n",
    "y_pred = knn.predict(X_test)\n",
    "\n",
    "print('Mean Absolute Error:', metrics.mean_absolute_error(y_test, y_pred))  \n",
    "print('Mean Squared Error:', metrics.mean_squared_error(y_test, y_pred))  \n",
    "print('Root Mean Squared Error:', np.sqrt(metrics.mean_squared_error(y_test, y_pred)))"
   ]
  },
  {
   "cell_type": "code",
   "execution_count": 53,
   "metadata": {},
   "outputs": [
    {
     "name": "stdout",
     "output_type": "stream",
     "text": [
      "Mean Absolute Error: 3.2407757792382488\n",
      "Mean Squared Error: 17.970060477491725\n",
      "Root Mean Squared Error: 4.239110812126963\n"
     ]
    }
   ],
   "source": [
    "knn = KNeighborsRegressor(n_neighbors=7)\n",
    "knn.fit(X_train, y_train)\n",
    "y_pred = knn.predict(X_test)\n",
    "\n",
    "print('Mean Absolute Error:', metrics.mean_absolute_error(y_test, y_pred))  \n",
    "print('Mean Squared Error:', metrics.mean_squared_error(y_test, y_pred))  \n",
    "print('Root Mean Squared Error:', np.sqrt(metrics.mean_squared_error(y_test, y_pred)))"
   ]
  },
  {
   "cell_type": "code",
   "execution_count": 54,
   "metadata": {},
   "outputs": [],
   "source": [
    "df['date'] = pd.date_range(start='1/1/2010', periods=len(df), freq='8H')"
   ]
  },
  {
   "cell_type": "code",
   "execution_count": 55,
   "metadata": {},
   "outputs": [],
   "source": [
    "datetime = pd.date_range(start='1/1/2010', periods=730, freq='8H')"
   ]
  },
  {
   "cell_type": "code",
   "execution_count": 56,
   "metadata": {},
   "outputs": [
    {
     "data": {
      "text/html": [
       "<div>\n",
       "<style scoped>\n",
       "    .dataframe tbody tr th:only-of-type {\n",
       "        vertical-align: middle;\n",
       "    }\n",
       "\n",
       "    .dataframe tbody tr th {\n",
       "        vertical-align: top;\n",
       "    }\n",
       "\n",
       "    .dataframe thead th {\n",
       "        text-align: right;\n",
       "    }\n",
       "</style>\n",
       "<table border=\"1\" class=\"dataframe\">\n",
       "  <thead>\n",
       "    <tr style=\"text-align: right;\">\n",
       "      <th></th>\n",
       "      <th>Actual value</th>\n",
       "      <th>Predicted value</th>\n",
       "    </tr>\n",
       "  </thead>\n",
       "  <tbody>\n",
       "    <tr>\n",
       "      <th>9394</th>\n",
       "      <td>55.23</td>\n",
       "      <td>56.427143</td>\n",
       "    </tr>\n",
       "    <tr>\n",
       "      <th>14845</th>\n",
       "      <td>53.09</td>\n",
       "      <td>50.772857</td>\n",
       "    </tr>\n",
       "    <tr>\n",
       "      <th>11368</th>\n",
       "      <td>54.10</td>\n",
       "      <td>39.620000</td>\n",
       "    </tr>\n",
       "    <tr>\n",
       "      <th>9871</th>\n",
       "      <td>30.56</td>\n",
       "      <td>33.514286</td>\n",
       "    </tr>\n",
       "    <tr>\n",
       "      <th>10376</th>\n",
       "      <td>43.05</td>\n",
       "      <td>45.172857</td>\n",
       "    </tr>\n",
       "  </tbody>\n",
       "</table>\n",
       "</div>"
      ],
      "text/plain": [
       "       Actual value  Predicted value\n",
       "9394          55.23        56.427143\n",
       "14845         53.09        50.772857\n",
       "11368         54.10        39.620000\n",
       "9871          30.56        33.514286\n",
       "10376         43.05        45.172857"
      ]
     },
     "execution_count": 56,
     "metadata": {},
     "output_type": "execute_result"
    }
   ],
   "source": [
    "#Actual value and the predicted value\n",
    "diff = pd.DataFrame({'Actual value': y_test, 'Predicted value': y_pred})\n",
    "diff.head()"
   ]
  },
  {
   "cell_type": "code",
   "execution_count": 57,
   "metadata": {},
   "outputs": [
    {
     "ename": "NameError",
     "evalue": "name 'plt' is not defined",
     "output_type": "error",
     "traceback": [
      "\u001b[0;31m---------------------------------------------------------------------------\u001b[0m",
      "\u001b[0;31mNameError\u001b[0m                                 Traceback (most recent call last)",
      "Input \u001b[0;32mIn [57]\u001b[0m, in \u001b[0;36m<cell line: 1>\u001b[0;34m()\u001b[0m\n\u001b[0;32m----> 1\u001b[0m \u001b[43mplt\u001b[49m\u001b[38;5;241m.\u001b[39mplot(diff[\u001b[38;5;124m'\u001b[39m\u001b[38;5;124mPredicted value\u001b[39m\u001b[38;5;124m'\u001b[39m]\u001b[38;5;241m.\u001b[39mrolling(\u001b[38;5;241m40\u001b[39m)\u001b[38;5;241m.\u001b[39mmean(), diff[\u001b[38;5;124m'\u001b[39m\u001b[38;5;124mActual value\u001b[39m\u001b[38;5;124m'\u001b[39m]\u001b[38;5;241m.\u001b[39mrolling(\u001b[38;5;241m40\u001b[39m)\u001b[38;5;241m.\u001b[39mmean(), \u001b[38;5;124m'\u001b[39m\u001b[38;5;124mo\u001b[39m\u001b[38;5;124m'\u001b[39m)\n\u001b[1;32m      2\u001b[0m plt\u001b[38;5;241m.\u001b[39mtitle(\u001b[38;5;124m'\u001b[39m\u001b[38;5;124mActual vs Predicted Module Temperature\u001b[39m\u001b[38;5;124m'\u001b[39m)\n\u001b[1;32m      3\u001b[0m plt\u001b[38;5;241m.\u001b[39mxlabel(\u001b[38;5;124m'\u001b[39m\u001b[38;5;124mPredicted Module Temperature (Celcius)\u001b[39m\u001b[38;5;124m'\u001b[39m)\n",
      "\u001b[0;31mNameError\u001b[0m: name 'plt' is not defined"
     ]
    }
   ],
   "source": [
    "plt.plot(diff['Predicted value'].rolling(40).mean(), diff['Actual value'].rolling(40).mean(), 'o')\n",
    "plt.title('Actual vs Predicted Module Temperature')\n",
    "plt.xlabel('Predicted Module Temperature (Celcius)')\n",
    "plt.ylabel('Actual Module Temperature (Celcius)')"
   ]
  },
  {
   "cell_type": "code",
   "execution_count": null,
   "metadata": {},
   "outputs": [],
   "source": [
    "s = pd.Series(y_pred)\n",
    "plt.plot(s.rolling(40).mean()) "
   ]
  },
  {
   "cell_type": "code",
   "execution_count": null,
   "metadata": {},
   "outputs": [],
   "source": [
    "\n",
    "# Evaluate the model using cross-validation\n",
    "cv_scores = cross_val_score(knn, X, y, cv=5)\n",
    "mean_cv_score = cv_scores.mean()\n",
    "\n",
    "print(\"Cross-validation scores: {}\".format(cv_scores))\n",
    "print(\"Mean cross-validation score: {:.2f}\".format(mean_cv_score))\n"
   ]
  },
  {
   "cell_type": "code",
   "execution_count": null,
   "metadata": {},
   "outputs": [],
   "source": [
    "#56.427143 = a*186.0443 + b*1.842 + c*21.15 + d\n",
    "\n",
    "#50.772857 = a*501.9459 + b*0.969 + c*34.56 + d\n",
    "\n",
    "#39.620000= a*259.9785 + b*0.872 + c*30.06 + d\n",
    "\n",
    "#33.514286 = a*114.8557 + b*0.123 + c*9.46 + d\n",
    "\n",
    "A = np.array([[186.0443,1.842,21.15,1],[501.9459,0.969,34.56,1],[259.9785,0.872,30.06,1],[114.8557,0.123,9.46,1]])\n",
    "B = np.array([56.427143, 50.772857, 39.620000,33.514286  ])\n",
    "X2=np.linalg.solve(A,B)\n",
    "print(X2)"
   ]
  },
  {
   "cell_type": "code",
   "execution_count": null,
   "metadata": {},
   "outputs": [],
   "source": [
    "#E = PV electrical efficiency\n",
    "#ETref = Module's electrical efficiency\n",
    "#Bref = Temperature coefficient\n",
    "#Tref = Reference temperature\n",
    "#Tc = Module temperature \n",
    "\n",
    "# E=ETref[1-Bref(Tc-Tref)]\n",
    "\n",
    "# Create a pandas DataFrame with the values to calculate E\n",
    "data = pd.DataFrame({'values': [56.427143, 50.772857, 39.620000,33.514286 ]})\n",
    "\n",
    "# Define a lambda function to calculate E using the formula\n",
    "calculate_E = lambda x: 0.12*(1 - 0.0045*(x - 25))\n",
    "\n",
    "# Apply the lambda function to each row of the DataFrame and store the result in a new column\n",
    "data['E'] = data['values'].apply(calculate_E)\n",
    "\n",
    "# Print the resulting DataFrame\n",
    "print(data)"
   ]
  },
  {
   "cell_type": "code",
   "execution_count": null,
   "metadata": {},
   "outputs": [],
   "source": [
    "#To Expression for power output : P=EAGt\n",
    "\n",
    "# P=  0.103029*1.05*186.0443\n",
    "# P=  0.106083*1.05*501.9459\n",
    "# P= 0.112105 *1.05*259.9785\n",
    "# p=  0.126127*1.05*114.8557\n",
    "\n",
    "S=pd.DataFrame({'coeff': [0.103029,0.106083, 0.112105,  0.115402  ], 'factor': [1.05, 1.05, 1.05, 1.05], 'value': [186.0443, 501.9459, 259.9785, 114.8557]})\n",
    "\n",
    "calculate_P = lambda x: x['coeff']*x['factor']*x['value']\n",
    "\n",
    "S['P'] = S.apply(calculate_P, axis=1)\n",
    "\n",
    "print(S)"
   ]
  },
  {
   "cell_type": "code",
   "execution_count": 58,
   "metadata": {
    "collapsed": true,
    "jupyter": {
     "outputs_hidden": true
    },
    "tags": []
   },
   "outputs": [
    {
     "data": {
      "text/html": [
       "<div>\n",
       "<style scoped>\n",
       "    .dataframe tbody tr th:only-of-type {\n",
       "        vertical-align: middle;\n",
       "    }\n",
       "\n",
       "    .dataframe tbody tr th {\n",
       "        vertical-align: top;\n",
       "    }\n",
       "\n",
       "    .dataframe thead th {\n",
       "        text-align: right;\n",
       "    }\n",
       "</style>\n",
       "<table border=\"1\" class=\"dataframe\">\n",
       "  <thead>\n",
       "    <tr style=\"text-align: right;\">\n",
       "      <th></th>\n",
       "      <th>Gt</th>\n",
       "      <th>WS</th>\n",
       "      <th>Tamb</th>\n",
       "    </tr>\n",
       "  </thead>\n",
       "  <tbody>\n",
       "    <tr>\n",
       "      <th>9394</th>\n",
       "      <td>625.5485</td>\n",
       "      <td>2.373</td>\n",
       "      <td>40.09</td>\n",
       "    </tr>\n",
       "    <tr>\n",
       "      <th>14845</th>\n",
       "      <td>638.2452</td>\n",
       "      <td>0.751</td>\n",
       "      <td>28.54</td>\n",
       "    </tr>\n",
       "    <tr>\n",
       "      <th>11368</th>\n",
       "      <td>258.0542</td>\n",
       "      <td>1.299</td>\n",
       "      <td>32.97</td>\n",
       "    </tr>\n",
       "    <tr>\n",
       "      <th>9871</th>\n",
       "      <td>179.7936</td>\n",
       "      <td>1.000</td>\n",
       "      <td>27.70</td>\n",
       "    </tr>\n",
       "    <tr>\n",
       "      <th>10376</th>\n",
       "      <td>421.5381</td>\n",
       "      <td>3.739</td>\n",
       "      <td>31.72</td>\n",
       "    </tr>\n",
       "    <tr>\n",
       "      <th>...</th>\n",
       "      <td>...</td>\n",
       "      <td>...</td>\n",
       "      <td>...</td>\n",
       "    </tr>\n",
       "    <tr>\n",
       "      <th>2857</th>\n",
       "      <td>871.6236</td>\n",
       "      <td>1.690</td>\n",
       "      <td>30.02</td>\n",
       "    </tr>\n",
       "    <tr>\n",
       "      <th>16678</th>\n",
       "      <td>747.7057</td>\n",
       "      <td>1.173</td>\n",
       "      <td>21.43</td>\n",
       "    </tr>\n",
       "    <tr>\n",
       "      <th>10325</th>\n",
       "      <td>848.9891</td>\n",
       "      <td>1.872</td>\n",
       "      <td>34.55</td>\n",
       "    </tr>\n",
       "    <tr>\n",
       "      <th>11616</th>\n",
       "      <td>283.3823</td>\n",
       "      <td>1.111</td>\n",
       "      <td>32.41</td>\n",
       "    </tr>\n",
       "    <tr>\n",
       "      <th>15590</th>\n",
       "      <td>637.4999</td>\n",
       "      <td>0.810</td>\n",
       "      <td>27.67</td>\n",
       "    </tr>\n",
       "  </tbody>\n",
       "</table>\n",
       "<p>3717 rows × 3 columns</p>\n",
       "</div>"
      ],
      "text/plain": [
       "             Gt     WS   Tamb\n",
       "9394   625.5485  2.373  40.09\n",
       "14845  638.2452  0.751  28.54\n",
       "11368  258.0542  1.299  32.97\n",
       "9871   179.7936  1.000  27.70\n",
       "10376  421.5381  3.739  31.72\n",
       "...         ...    ...    ...\n",
       "2857   871.6236  1.690  30.02\n",
       "16678  747.7057  1.173  21.43\n",
       "10325  848.9891  1.872  34.55\n",
       "11616  283.3823  1.111  32.41\n",
       "15590  637.4999  0.810  27.67\n",
       "\n",
       "[3717 rows x 3 columns]"
      ]
     },
     "execution_count": 58,
     "metadata": {},
     "output_type": "execute_result"
    }
   ],
   "source": [
    "X_test"
   ]
  },
  {
   "cell_type": "markdown",
   "metadata": {},
   "source": [
    "## Modeling using Gradient Boosting"
   ]
  },
  {
   "cell_type": "code",
   "execution_count": 1,
   "metadata": {},
   "outputs": [],
   "source": [
    "import pandas as pd\n",
    "from sklearn.ensemble import GradientBoostingRegressor\n",
    "from sklearn.metrics import mean_squared_error\n",
    "from sklearn.model_selection import train_test_split"
   ]
  },
  {
   "cell_type": "code",
   "execution_count": 2,
   "metadata": {},
   "outputs": [],
   "source": [
    "# Load the dataset\n",
    "data = pd.read_csv('Solar PV HIT-data.csv')"
   ]
  },
  {
   "cell_type": "code",
   "execution_count": 3,
   "metadata": {},
   "outputs": [],
   "source": [
    "\n",
    "# Split the dataset into training and test sets\n",
    "X = data.drop(['Temp_Mid_avg','Isc','Voc','Ipmax','Vpmax','Pmax','time','ModuleYear','ModuleMonth','module'], axis=1)\n",
    "y = data['Temp_Mid_avg']\n",
    "X_train, X_test, y_train, y_test = train_test_split(X, y, test_size=0.2, random_state=42)\n"
   ]
  },
  {
   "cell_type": "code",
   "execution_count": 4,
   "metadata": {},
   "outputs": [
    {
     "data": {
      "text/html": [
       "<style>#sk-container-id-1 {color: black;background-color: white;}#sk-container-id-1 pre{padding: 0;}#sk-container-id-1 div.sk-toggleable {background-color: white;}#sk-container-id-1 label.sk-toggleable__label {cursor: pointer;display: block;width: 100%;margin-bottom: 0;padding: 0.3em;box-sizing: border-box;text-align: center;}#sk-container-id-1 label.sk-toggleable__label-arrow:before {content: \"▸\";float: left;margin-right: 0.25em;color: #696969;}#sk-container-id-1 label.sk-toggleable__label-arrow:hover:before {color: black;}#sk-container-id-1 div.sk-estimator:hover label.sk-toggleable__label-arrow:before {color: black;}#sk-container-id-1 div.sk-toggleable__content {max-height: 0;max-width: 0;overflow: hidden;text-align: left;background-color: #f0f8ff;}#sk-container-id-1 div.sk-toggleable__content pre {margin: 0.2em;color: black;border-radius: 0.25em;background-color: #f0f8ff;}#sk-container-id-1 input.sk-toggleable__control:checked~div.sk-toggleable__content {max-height: 200px;max-width: 100%;overflow: auto;}#sk-container-id-1 input.sk-toggleable__control:checked~label.sk-toggleable__label-arrow:before {content: \"▾\";}#sk-container-id-1 div.sk-estimator input.sk-toggleable__control:checked~label.sk-toggleable__label {background-color: #d4ebff;}#sk-container-id-1 div.sk-label input.sk-toggleable__control:checked~label.sk-toggleable__label {background-color: #d4ebff;}#sk-container-id-1 input.sk-hidden--visually {border: 0;clip: rect(1px 1px 1px 1px);clip: rect(1px, 1px, 1px, 1px);height: 1px;margin: -1px;overflow: hidden;padding: 0;position: absolute;width: 1px;}#sk-container-id-1 div.sk-estimator {font-family: monospace;background-color: #f0f8ff;border: 1px dotted black;border-radius: 0.25em;box-sizing: border-box;margin-bottom: 0.5em;}#sk-container-id-1 div.sk-estimator:hover {background-color: #d4ebff;}#sk-container-id-1 div.sk-parallel-item::after {content: \"\";width: 100%;border-bottom: 1px solid gray;flex-grow: 1;}#sk-container-id-1 div.sk-label:hover label.sk-toggleable__label {background-color: #d4ebff;}#sk-container-id-1 div.sk-serial::before {content: \"\";position: absolute;border-left: 1px solid gray;box-sizing: border-box;top: 0;bottom: 0;left: 50%;z-index: 0;}#sk-container-id-1 div.sk-serial {display: flex;flex-direction: column;align-items: center;background-color: white;padding-right: 0.2em;padding-left: 0.2em;position: relative;}#sk-container-id-1 div.sk-item {position: relative;z-index: 1;}#sk-container-id-1 div.sk-parallel {display: flex;align-items: stretch;justify-content: center;background-color: white;position: relative;}#sk-container-id-1 div.sk-item::before, #sk-container-id-1 div.sk-parallel-item::before {content: \"\";position: absolute;border-left: 1px solid gray;box-sizing: border-box;top: 0;bottom: 0;left: 50%;z-index: -1;}#sk-container-id-1 div.sk-parallel-item {display: flex;flex-direction: column;z-index: 1;position: relative;background-color: white;}#sk-container-id-1 div.sk-parallel-item:first-child::after {align-self: flex-end;width: 50%;}#sk-container-id-1 div.sk-parallel-item:last-child::after {align-self: flex-start;width: 50%;}#sk-container-id-1 div.sk-parallel-item:only-child::after {width: 0;}#sk-container-id-1 div.sk-dashed-wrapped {border: 1px dashed gray;margin: 0 0.4em 0.5em 0.4em;box-sizing: border-box;padding-bottom: 0.4em;background-color: white;}#sk-container-id-1 div.sk-label label {font-family: monospace;font-weight: bold;display: inline-block;line-height: 1.2em;}#sk-container-id-1 div.sk-label-container {text-align: center;}#sk-container-id-1 div.sk-container {/* jupyter's `normalize.less` sets `[hidden] { display: none; }` but bootstrap.min.css set `[hidden] { display: none !important; }` so we also need the `!important` here to be able to override the default hidden behavior on the sphinx rendered scikit-learn.org. See: https://github.com/scikit-learn/scikit-learn/issues/21755 */display: inline-block !important;position: relative;}#sk-container-id-1 div.sk-text-repr-fallback {display: none;}</style><div id=\"sk-container-id-1\" class=\"sk-top-container\"><div class=\"sk-text-repr-fallback\"><pre>GradientBoostingRegressor(random_state=42)</pre><b>In a Jupyter environment, please rerun this cell to show the HTML representation or trust the notebook. <br />On GitHub, the HTML representation is unable to render, please try loading this page with nbviewer.org.</b></div><div class=\"sk-container\" hidden><div class=\"sk-item\"><div class=\"sk-estimator sk-toggleable\"><input class=\"sk-toggleable__control sk-hidden--visually\" id=\"sk-estimator-id-1\" type=\"checkbox\" checked><label for=\"sk-estimator-id-1\" class=\"sk-toggleable__label sk-toggleable__label-arrow\">GradientBoostingRegressor</label><div class=\"sk-toggleable__content\"><pre>GradientBoostingRegressor(random_state=42)</pre></div></div></div></div></div>"
      ],
      "text/plain": [
       "GradientBoostingRegressor(random_state=42)"
      ]
     },
     "execution_count": 4,
     "metadata": {},
     "output_type": "execute_result"
    }
   ],
   "source": [
    "# Train the model\n",
    "gb = GradientBoostingRegressor(n_estimators=100, learning_rate=0.1, max_depth=3, random_state=42)\n",
    "gb.fit(X_train, y_train)"
   ]
  },
  {
   "cell_type": "code",
   "execution_count": 14,
   "metadata": {
    "tags": []
   },
   "outputs": [
    {
     "data": {
      "text/plain": [
       "[547.0397,\n",
       " 635.7053,\n",
       " 749.927,\n",
       " 468.5551,\n",
       " 962.8691,\n",
       " 747.8853,\n",
       " 579.7453,\n",
       " 717.4138,\n",
       " 371.5115,\n",
       " 492.6956,\n",
       " 123.1018,\n",
       " 595.7877,\n",
       " 835.1508,\n",
       " 129.4151,\n",
       " 249.8679,\n",
       " 692.0901,\n",
       " 841.9402,\n",
       " 488.3485,\n",
       " 239.6332,\n",
       " 299.2595,\n",
       " 251.5114,\n",
       " 526.9993,\n",
       " 745.831,\n",
       " 143.5099,\n",
       " 880.3419,\n",
       " 833.1104,\n",
       " 404.7763,\n",
       " 387.8777,\n",
       " 513.3343,\n",
       " 816.2168,\n",
       " 246.1607,\n",
       " 558.607,\n",
       " 326.4332,\n",
       " 701.9807,\n",
       " 425.2198,\n",
       " 797.7455,\n",
       " 190.8123,\n",
       " 198.5034,\n",
       " 157.6119,\n",
       " 340.4061]"
      ]
     },
     "execution_count": 14,
     "metadata": {},
     "output_type": "execute_result"
    }
   ],
   "source": [
    "list(X_train['Gt'][:40].sort_index())"
   ]
  },
  {
   "cell_type": "code",
   "execution_count": null,
   "metadata": {},
   "outputs": [],
   "source": [
    "import pickle\n",
    "\n",
    "Gt = pickle.dump(open('gt', 'wb'))"
   ]
  },
  {
   "cell_type": "code",
   "execution_count": 6,
   "metadata": {},
   "outputs": [],
   "source": [
    "# Predicting the Test set results\n",
    "\n",
    "y_pred = gb.predict(X_test)"
   ]
  },
  {
   "cell_type": "code",
   "execution_count": 7,
   "metadata": {},
   "outputs": [
    {
     "name": "stdout",
     "output_type": "stream",
     "text": [
      "Mean Absolute Error: 2.9457695764126526\n",
      "Mean Squared Error: 15.006865339400836\n",
      "Root Mean Squared Error: 3.873869556322313\n"
     ]
    }
   ],
   "source": [
    "# Evaluating the Algorithm\n",
    "\n",
    "from sklearn import metrics\n",
    "print('Mean Absolute Error:', metrics.mean_absolute_error(y_test, y_pred))  \n",
    "print('Mean Squared Error:', metrics.mean_squared_error(y_test, y_pred))  \n",
    "print('Root Mean Squared Error:', np.sqrt(metrics.mean_squared_error(y_test, y_pred)))"
   ]
  },
  {
   "cell_type": "code",
   "execution_count": null,
   "metadata": {},
   "outputs": [],
   "source": [
    "gb = GradientBoostingRegressor(n_estimators=50, learning_rate=0.1, max_depth=3, random_state=42)\n",
    "gb.fit(X_train, y_train)\n",
    "\n",
    "y_pred = gb.predict(X_test)\n",
    "\n",
    "print('Mean Absolute Error:', metrics.mean_absolute_error(y_test, y_pred))  \n",
    "print('Mean Squared Error:', metrics.mean_squared_error(y_test, y_pred))  \n",
    "print('Root Mean Squared Error:', np.sqrt(metrics.mean_squared_error(y_test, y_pred)))"
   ]
  },
  {
   "cell_type": "code",
   "execution_count": null,
   "metadata": {},
   "outputs": [],
   "source": [
    "gb = GradientBoostingRegressor(n_estimators=200, learning_rate=0.1, max_depth=3, random_state=42)\n",
    "gb.fit(X_train, y_train)\n",
    "\n",
    "y_pred = gb.predict(X_test)\n",
    "\n",
    "print('Mean Absolute Error:', metrics.mean_absolute_error(y_test, y_pred))  \n",
    "print('Mean Squared Error:', metrics.mean_squared_error(y_test, y_pred))  \n",
    "print('Root Mean Squared Error:', np.sqrt(metrics.mean_squared_error(y_test, y_pred)))"
   ]
  },
  {
   "cell_type": "code",
   "execution_count": null,
   "metadata": {},
   "outputs": [],
   "source": [
    "df['date'] = pd.date_range(start='1/1/2010', periods=len(df), freq='8H')"
   ]
  },
  {
   "cell_type": "code",
   "execution_count": null,
   "metadata": {},
   "outputs": [],
   "source": [
    "datetime = pd.date_range(start='1/1/2010', periods=730, freq='8H')"
   ]
  },
  {
   "cell_type": "code",
   "execution_count": null,
   "metadata": {},
   "outputs": [],
   "source": [
    "#Actual value and the predicted value\n",
    "diff = pd.DataFrame({'Actual value': y_test, 'Predicted value': y_pred})\n",
    "diff.head()"
   ]
  },
  {
   "cell_type": "code",
   "execution_count": null,
   "metadata": {},
   "outputs": [],
   "source": [
    "plt.plot(diff['Predicted value'].rolling(40).mean(), diff['Actual value'].rolling(40).mean(), 'o')\n",
    "plt.title('Actual vs Predicted Module Temperature')\n",
    "plt.xlabel('Predicted Module Temperature (Celcius)')\n",
    "plt.ylabel('Actual Module Temperature (Celcius)')"
   ]
  },
  {
   "cell_type": "code",
   "execution_count": null,
   "metadata": {},
   "outputs": [],
   "source": [
    "s = pd.Series(y_pred)\n",
    "plt.plot(s.rolling(40).mean()) "
   ]
  },
  {
   "cell_type": "code",
   "execution_count": null,
   "metadata": {},
   "outputs": [],
   "source": [
    "#55.468208 = a*186.0443 + b*1.842 + c*21.15 + d\n",
    "\n",
    "#49.396756 = a*501.9459 + b*0.969 + c*34.56 + d\n",
    "\n",
    "#42.849564 = a*259.9785 + b*0.872 + c*30.06 + d\n",
    "\n",
    "#32.989956 = a*114.8557 + b*0.123 + c*9.46 + d\n",
    "\n",
    "A = np.array([[186.0443,1.842,21.15,1],[501.9459,0.969,34.56,1],[259.9785,0.872,30.06,1],[114.8557,0.123,9.46,1]])\n",
    "B = np.array([55.468208, 49.396756, 42.849564, 32.989956 ])\n",
    "X2=np.linalg.solve(A,B)\n",
    "print(X2)"
   ]
  },
  {
   "cell_type": "code",
   "execution_count": null,
   "metadata": {},
   "outputs": [],
   "source": [
    "#E = PV electrical efficiency\n",
    "#ETref = Module's electrical efficiency\n",
    "#Bref = Temperature coefficient\n",
    "#Tref = Reference temperature\n",
    "#Tc = Module temperature \n",
    "\n",
    "# E=ETref[1-Bref(Tc-Tref)]\n",
    "\n",
    "# Create a pandas DataFrame with the values to calculate E\n",
    "data = pd.DataFrame({'values': [55.468208, 49.396756, 42.849564, 32.989956]})\n",
    "\n",
    "# Define a lambda function to calculate E using the formula\n",
    "calculate_E = lambda x: 0.12*(1 - 0.0045*(x - 25))\n",
    "\n",
    "# Apply the lambda function to each row of the DataFrame and store the result in a new column\n",
    "data['E'] = data['values'].apply(calculate_E)\n",
    "\n",
    "# Print the resulting DataFrame\n",
    "print(data)"
   ]
  },
  {
   "cell_type": "code",
   "execution_count": 63,
   "metadata": {},
   "outputs": [
    {
     "data": {
      "text/plain": [
       "9394     625.5485\n",
       "14845    638.2452\n",
       "11368    258.0542\n",
       "9871     179.7936\n",
       "10376    421.5381\n",
       "           ...   \n",
       "2857     871.6236\n",
       "16678    747.7057\n",
       "10325    848.9891\n",
       "11616    283.3823\n",
       "15590    637.4999\n",
       "Name: Gt, Length: 3717, dtype: float64"
      ]
     },
     "execution_count": 63,
     "metadata": {},
     "output_type": "execute_result"
    }
   ],
   "source": [
    "X_test['Gt']"
   ]
  },
  {
   "cell_type": "code",
   "execution_count": 120,
   "metadata": {
    "collapsed": true,
    "jupyter": {
     "outputs_hidden": true
    },
    "tags": []
   },
   "outputs": [
    {
     "data": {
      "text/html": [
       "<div>\n",
       "<style scoped>\n",
       "    .dataframe tbody tr th:only-of-type {\n",
       "        vertical-align: middle;\n",
       "    }\n",
       "\n",
       "    .dataframe tbody tr th {\n",
       "        vertical-align: top;\n",
       "    }\n",
       "\n",
       "    .dataframe thead th {\n",
       "        text-align: right;\n",
       "    }\n",
       "</style>\n",
       "<table border=\"1\" class=\"dataframe\">\n",
       "  <thead>\n",
       "    <tr style=\"text-align: right;\">\n",
       "      <th></th>\n",
       "      <th>Gt</th>\n",
       "      <th>WS</th>\n",
       "      <th>Tamb</th>\n",
       "    </tr>\n",
       "  </thead>\n",
       "  <tbody>\n",
       "    <tr>\n",
       "      <th>9394</th>\n",
       "      <td>625.5485</td>\n",
       "      <td>2.373</td>\n",
       "      <td>40.09</td>\n",
       "    </tr>\n",
       "    <tr>\n",
       "      <th>14845</th>\n",
       "      <td>638.2452</td>\n",
       "      <td>0.751</td>\n",
       "      <td>28.54</td>\n",
       "    </tr>\n",
       "    <tr>\n",
       "      <th>11368</th>\n",
       "      <td>258.0542</td>\n",
       "      <td>1.299</td>\n",
       "      <td>32.97</td>\n",
       "    </tr>\n",
       "    <tr>\n",
       "      <th>9871</th>\n",
       "      <td>179.7936</td>\n",
       "      <td>1.000</td>\n",
       "      <td>27.70</td>\n",
       "    </tr>\n",
       "    <tr>\n",
       "      <th>10376</th>\n",
       "      <td>421.5381</td>\n",
       "      <td>3.739</td>\n",
       "      <td>31.72</td>\n",
       "    </tr>\n",
       "    <tr>\n",
       "      <th>...</th>\n",
       "      <td>...</td>\n",
       "      <td>...</td>\n",
       "      <td>...</td>\n",
       "    </tr>\n",
       "    <tr>\n",
       "      <th>2857</th>\n",
       "      <td>871.6236</td>\n",
       "      <td>1.690</td>\n",
       "      <td>30.02</td>\n",
       "    </tr>\n",
       "    <tr>\n",
       "      <th>16678</th>\n",
       "      <td>747.7057</td>\n",
       "      <td>1.173</td>\n",
       "      <td>21.43</td>\n",
       "    </tr>\n",
       "    <tr>\n",
       "      <th>10325</th>\n",
       "      <td>848.9891</td>\n",
       "      <td>1.872</td>\n",
       "      <td>34.55</td>\n",
       "    </tr>\n",
       "    <tr>\n",
       "      <th>11616</th>\n",
       "      <td>283.3823</td>\n",
       "      <td>1.111</td>\n",
       "      <td>32.41</td>\n",
       "    </tr>\n",
       "    <tr>\n",
       "      <th>15590</th>\n",
       "      <td>637.4999</td>\n",
       "      <td>0.810</td>\n",
       "      <td>27.67</td>\n",
       "    </tr>\n",
       "  </tbody>\n",
       "</table>\n",
       "<p>3717 rows × 3 columns</p>\n",
       "</div>"
      ],
      "text/plain": [
       "             Gt     WS   Tamb\n",
       "9394   625.5485  2.373  40.09\n",
       "14845  638.2452  0.751  28.54\n",
       "11368  258.0542  1.299  32.97\n",
       "9871   179.7936  1.000  27.70\n",
       "10376  421.5381  3.739  31.72\n",
       "...         ...    ...    ...\n",
       "2857   871.6236  1.690  30.02\n",
       "16678  747.7057  1.173  21.43\n",
       "10325  848.9891  1.872  34.55\n",
       "11616  283.3823  1.111  32.41\n",
       "15590  637.4999  0.810  27.67\n",
       "\n",
       "[3717 rows x 3 columns]"
      ]
     },
     "execution_count": 120,
     "metadata": {},
     "output_type": "execute_result"
    }
   ],
   "source": [
    "X_test"
   ]
  },
  {
   "cell_type": "code",
   "execution_count": 121,
   "metadata": {},
   "outputs": [],
   "source": [
    "calculate_E = lambda x: 0.12*(1 - 0.0045*(x - 25))\n",
    "y_pred = pd.Series(y_pred)\n",
    "E_pred_gb = y_pred.apply(calculate_E)\n",
    "\n",
    "P_pred_gb = 1.05 * E_pred_gb * X_test['Gt']"
   ]
  },
  {
   "cell_type": "code",
   "execution_count": 126,
   "metadata": {},
   "outputs": [
    {
     "data": {
      "text/plain": [
       "[<matplotlib.lines.Line2D at 0x7fe2292cb5e0>]"
      ]
     },
     "execution_count": 126,
     "metadata": {},
     "output_type": "execute_result"
    },
    {
     "data": {
      "image/png": "[encoded data removed]",
      "text/plain": [
       "<Figure size 640x480 with 1 Axes>"
      ]
     },
     "metadata": {},
     "output_type": "display_data"
    }
   ],
   "source": [
    "#plt.plot(np.arange(len(P_pred_rf)), P_pred_rf.rolling(90).mean(), label=\"Random forest\")\n",
    "#plt.plot(np.arange(len(P_pred_svr)), P_pred_svr.rolling(90).mean(), label=\"SVR\")\n",
    "#plt.plot(np.arange(len(P_pred_knn)), P_pred_knn.rolling(90).mean(), label=\"KNN\")\n",
    "plt.plot(np.arange(len(P_pred_gb)), P_pred_gb.rolling(90).mean(), label=\"Gradient boost\")"
   ]
  },
  {
   "cell_type": "code",
   "execution_count": 87,
   "metadata": {},
   "outputs": [
    {
     "ename": "AttributeError",
     "evalue": "'numpy.ndarray' object has no attribute 'apply'",
     "output_type": "error",
     "traceback": [
      "\u001b[0;31m---------------------------------------------------------------------------\u001b[0m",
      "\u001b[0;31mAttributeError\u001b[0m                            Traceback (most recent call last)",
      "Input \u001b[0;32mIn [87]\u001b[0m, in \u001b[0;36m<cell line: 2>\u001b[0;34m()\u001b[0m\n\u001b[1;32m      1\u001b[0m calculate_E \u001b[38;5;241m=\u001b[39m \u001b[38;5;28;01mlambda\u001b[39;00m x: \u001b[38;5;241m0.12\u001b[39m\u001b[38;5;241m*\u001b[39m(\u001b[38;5;241m1\u001b[39m \u001b[38;5;241m-\u001b[39m \u001b[38;5;241m0.0045\u001b[39m\u001b[38;5;241m*\u001b[39m(x \u001b[38;5;241m-\u001b[39m \u001b[38;5;241m25\u001b[39m))\n\u001b[0;32m----> 2\u001b[0m E_pred_rf \u001b[38;5;241m=\u001b[39m \u001b[43my_pred\u001b[49m\u001b[38;5;241;43m.\u001b[39;49m\u001b[43mapply\u001b[49m(calculate_E)\n\u001b[1;32m      3\u001b[0m E_test_rf \u001b[38;5;241m=\u001b[39m y_test\u001b[38;5;241m.\u001b[39mapply(calculate_E)\n\u001b[1;32m      4\u001b[0m P_pred_rf \u001b[38;5;241m=\u001b[39m \u001b[38;5;241m1.05\u001b[39m \u001b[38;5;241m*\u001b[39m E_pred_rf \u001b[38;5;241m*\u001b[39m X_test[\u001b[38;5;124m'\u001b[39m\u001b[38;5;124mGt\u001b[39m\u001b[38;5;124m'\u001b[39m]\n",
      "\u001b[0;31mAttributeError\u001b[0m: 'numpy.ndarray' object has no attribute 'apply'"
     ]
    }
   ],
   "source": [
    "y_pred = pd.Series(y_pred)\n",
    "y_test = pd.Series(y_test)\n",
    "calculate_E = lambda x: 0.12*(1 - 0.0045*(x - 25))\n",
    "E_pred_rf = y_pred.apply(calculate_E)\n",
    "E_test_rf = y_test.apply(calculate_E)\n",
    "P_pred_rf = 1.05 * E_pred_rf * X_test['Gt']\n",
    "P_test_rf = 1.05 * E_test_rf * X_test['Gt']"
   ]
  },
  {
   "cell_type": "code",
   "execution_count": 88,
   "metadata": {},
   "outputs": [
    {
     "data": {
      "text/plain": [
       "<matplotlib.legend.Legend at 0x7fe237613cd0>"
      ]
     },
     "execution_count": 88,
     "metadata": {},
     "output_type": "execute_result"
    },
    {
     "data": {
      "image/png": "[encoded data removed]",
      "text/plain": [
       "<Figure size 640x480 with 1 Axes>"
      ]
     },
     "metadata": {},
     "output_type": "display_data"
    }
   ],
   "source": [
    "P_pred = pd.Series(P_pred)\n",
    "P_test = pd.Series(P_test)\n",
    "plt.plot(np.arange(len(P_test)), P_test.rolling(90).mean(), label=\"Actual\")\n",
    "plt.plot(np.arange(len(P_test)), P_pred.rolling(90).mean(), label=\"Predicted\")\n",
    "plt.ylabel(\"Power (W)\")\n",
    "plt.title(\"Actual vs predicted power output\")\n",
    "plt.legend()"
   ]
  },
  {
   "cell_type": "code",
   "execution_count": null,
   "metadata": {},
   "outputs": [],
   "source": [
    "#To Expression for power output : P=EAGt\n",
    "\n",
    "# P= 0.103547*1.05*186.0443\n",
    "# P= 0.106826*1.05*501.9459\n",
    "# P= 0.110361 *1.05*259.9785\n",
    "# p= 0.115685*1.05*114.8557\n",
    "\n",
    "S=pd.DataFrame({'coeff': [0.103547, 0.106826, 0.110361, 0.115685 ], 'factor': [1.05, 1.05, 1.05, 1.05], 'value': [186.0443, 501.9459, 259.9785, 114.8557]})\n",
    "\n",
    "calculate_P = lambda x: x['coeff']*x['factor']*x['value']\n",
    "\n",
    "S['P'] = S.apply(calculate_P, axis=1)\n",
    "\n",
    "print(S)"
   ]
  },
  {
   "cell_type": "code",
   "execution_count": 4,
   "metadata": {},
   "outputs": [],
   "source": [
    "import matplotlib.pyplot as plt"
   ]
  },
  {
   "cell_type": "code",
   "execution_count": 19,
   "metadata": {},
   "outputs": [
    {
     "data": {
      "text/plain": [
       "(4646,)"
      ]
     },
     "execution_count": 19,
     "metadata": {},
     "output_type": "execute_result"
    }
   ],
   "source": [
    "y_test.shape"
   ]
  },
  {
   "cell_type": "code",
   "execution_count": 58,
   "metadata": {},
   "outputs": [
    {
     "data": {
      "text/plain": [
       "<matplotlib.legend.Legend at 0x7fe2376137f0>"
      ]
     },
     "execution_count": 58,
     "metadata": {},
     "output_type": "execute_result"
    },
    {
     "data": {
      "image/png": "[encoded data removed]",
      "text/plain": [
       "<Figure size 640x480 with 1 Axes>"
      ]
     },
     "metadata": {},
     "output_type": "display_data"
    }
   ],
   "source": [
    "y_pred = pd.Series(y_pred)\n",
    "y_test = pd.Series(y_test)\n",
    "plt.plot(np.arange(len(y_test)), y_test.rolling(90).mean(), label=\"Actual\")\n",
    "plt.plot(np.arange(len(y_test)), y_pred.rolling(90).mean(), label=\"Predicted\")\n",
    "plt.ylabel(\"Module temperature (degrees C)\")\n",
    "plt.title(\"Actual vs predicted module temperatures\")\n",
    "plt.legend()"
   ]
  },
  {
   "cell_type": "code",
   "execution_count": 16,
   "metadata": {},
   "outputs": [
    {
     "data": {
      "text/plain": [
       "[<matplotlib.lines.Line2D at 0x7fe22d474af0>]"
      ]
     },
     "execution_count": 16,
     "metadata": {},
     "output_type": "execute_result"
    },
    {
     "data": {
      "image/png": "[encoded data removed]",
      "text/plain": [
       "<Figure size 640x480 with 1 Axes>"
      ]
     },
     "metadata": {},
     "output_type": "display_data"
    }
   ],
   "source": [
    "plt.plot(y_pred[:10])"
   ]
  },
  {
   "cell_type": "markdown",
   "metadata": {},
   "source": [
    "## Solar irradiance "
   ]
  },
  {
   "cell_type": "code",
   "execution_count": 67,
   "metadata": {},
   "outputs": [],
   "source": [
    "sol_df1 = pd.read_csv(\"POWER_Regional_Daily_20210101_20211231_015d0431N_025d0431N_072d6387E_082d6387E_LST.csv\")\n",
    "sol_df2 = pd.read_csv(\"POWER_Regional_Daily_20220101_20221231_015d0431N_025d0431N_072d6387E_082d6387E_LST.csv\")\n",
    "sol_df = pd.concat([sol_df1, sol_df2])"
   ]
  },
  {
   "cell_type": "code",
   "execution_count": 69,
   "metadata": {},
   "outputs": [],
   "source": [
    "X = sol_df[[\"LAT\", \"LON\"]]\n",
    "y = sol_df[\"ALLSKY_SFC_LW_DWN\"]\n",
    "X_train, X_test, y_train, y_test = train_test_split(X, y, test_size=0.2, random_state=42)"
   ]
  },
  {
   "cell_type": "code",
   "execution_count": 71,
   "metadata": {},
   "outputs": [
    {
     "data": {
      "text/plain": [
       "0    418.16\n",
       "1    411.42\n",
       "2    411.42\n",
       "3    376.52\n",
       "4    376.52\n",
       "Name: ALLSKY_SFC_LW_DWN, dtype: float64"
      ]
     },
     "execution_count": 71,
     "metadata": {},
     "output_type": "execute_result"
    }
   ],
   "source": [
    "y.head()"
   ]
  },
  {
   "cell_type": "code",
   "execution_count": null,
   "metadata": {},
   "outputs": [],
   "source": [
    "from sklearn.neural_network import MLPRegressor\n",
    "\n"
   ]
  },
  {
   "cell_type": "code",
   "execution_count": 78,
   "metadata": {},
   "outputs": [],
   "source": [
    "# Train the KNN model\n",
    "knn = KNeighborsRegressor(n_neighbors=16)\n",
    "knn.fit(X_train, y_train)\n",
    "\n",
    "# Predict on the test set\n",
    "y_pred = knn.predict(X_test)"
   ]
  },
  {
   "cell_type": "code",
   "execution_count": 79,
   "metadata": {},
   "outputs": [
    {
     "name": "stdout",
     "output_type": "stream",
     "text": [
      "Mean Absolute Error: 36.532884514126714\n",
      "Mean Squared Error: 1892.2537161558553\n",
      "Root Mean Squared Error: 43.50004271441415\n"
     ]
    }
   ],
   "source": [
    "from sklearn import metrics\n",
    "\n",
    "print('Mean Absolute Error:', metrics.mean_absolute_error(y_test, y_pred))  \n",
    "print('Mean Squared Error:', metrics.mean_squared_error(y_test, y_pred))  \n",
    "print('Root Mean Squared Error:', np.sqrt(metrics.mean_squared_error(y_test, y_pred)))"
   ]
  }
 ],
 "metadata": {
  "kernelspec": {
   "display_name": "Python 3 (ipykernel)",
   "language": "python",
   "name": "python3"
  },
  "language_info": {
   "codemirror_mode": {
    "name": "ipython",
    "version": 3
   },
   "file_extension": ".py",
   "mimetype": "text/x-python",
   "name": "python",
   "nbconvert_exporter": "python",
   "pygments_lexer": "ipython3",
   "version": "3.10.9"
  }
 },
 "nbformat": 4,
 "nbformat_minor": 4
}
